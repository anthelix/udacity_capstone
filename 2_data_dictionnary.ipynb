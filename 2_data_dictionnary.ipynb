{
 "cells": [
  {
   "cell_type": "markdown",
   "metadata": {},
   "source": [
    "###### Capstone Project"
   ]
  },
  {
   "cell_type": "markdown",
   "metadata": {},
   "source": [
    "# FILES AND TABLES DICTIONNARY \n",
    "\n",
    "\n"
   ]
  },
  {
   "cell_type": "markdown",
   "metadata": {},
   "source": [
    "## Immigration data\n",
    "\n",
    "* dataset/immigration_data_sample.csv"
   ]
  },
  {
   "cell_type": "markdown",
   "metadata": {},
   "source": [
    "##### Data Dictionary\n",
    "\n",
    "Column Name | Description | Example | Type\n",
    "-|-|-|-|\n",
    "**cicid**|     ID uniq per record in the dataset | 4.08e+06 | float64\n",
    "**i94yr**|     4 digit year  | 2016.0 | float64\n",
    "**i94mon**|    Numeric month |  4.0 | float64\n",
    "**i94cit**|     3 digit code of source city for immigration (Born country) | 209.0 | float64\n",
    "**i94res**|    3 digit code of source country for immigration (Residence country) | 209.0 | float64\n",
    "**i94port**|   Port addmitted through | HHW | object\n",
    "**arrdate**|   Arrival date in the USA | 20566.0 | float64\n",
    "**i94mode**|   Mode of transportation (1 = Air; 2 = Sea; 3 = Land; 9 = Not reported) | 1.0 | float\n",
    "**i94addr**|   State of arrival | HI | object\n",
    "**depdate**|   Departure date | 20573.0 | float\n",
    "**i94bir**|    Age in years | 61.0 | float\n",
    "**i94visa**|   Visa Code - 1 = Business / 2 = Pleasure / 3 = Student |2.0 | float\n",
    "**count**|     Used for summary statistics | 1.0 | float\n",
    "**dtadfile**|  Date Field in I94 files |20160422| int 64 \n",
    "**visapost**|  Department of State where where Visa was issued | | object\n",
    "**occup**|     Occupation that will be performed in U.S. || object\n",
    "**entdepa**|   Arrival Flag - Whether admitted or paroled into the US |G| object\n",
    "**entdepd**|   Departure Flag. Whether departed, lost visa, or deceased |O|  object\n",
    "**entdepu**|   Update Flag - Either apprehended, overstayed, adjusted to perm residence || **float64\n",
    "**matflag**|   Match flag - Match of arrival and departure records|M|  object\n",
    "**biryear**|   4 digit year of birth |1955.0| float64\n",
    "**dtaddto**|   Date field to when admitted in the US |07202016| object\n",
    "**gender**|    Gender|M| object\n",
    "**insnum**|    INS number || float64\n",
    "**airline**|   Airline used to arrive in U.S.|JL| object\n",
    "**admnum**|    Admission number, should be unique and not nullable |5.66e+10| float\n",
    "**fltno**|     Flight number of Airline used to arrive in U.S. |00782| object\n",
    "**visatype**|  Class of admission legally admitting the non-immigrant to temporarily stay in U.S.|WT|object"
   ]
  },
  {
   "cell_type": "markdown",
   "metadata": {},
   "source": [
    "## Global Land Temperature Data\n",
    "* dataset/GlobalLandTemperaturesByCity.csv"
   ]
  },
  {
   "cell_type": "markdown",
   "metadata": {},
   "source": [
    "Column Name | Description | Example | Type\n",
    "-|-|-|-|\n",
    "**dt**|Date format YYYY-MM-DD| 1743-11-01| object\n",
    "**AverageTemperature**|Average Temperature for the city to th date dt|6.07|float64\n",
    "**AverageTemperatureUncertainty**| Average Temperature Uncertainty | 1.74 |float64\n",
    "**City**| City name| Århus| object\n",
    "**Country**| Country name | Denmark | object\n",
    "**Latitude**| Latitude| 57.05N | object\n",
    "**Longitude** | Longitude | 10.33E |object"
   ]
  },
  {
   "cell_type": "markdown",
   "metadata": {},
   "source": [
    "## Global Airports Data\n",
    "* dataset/airports-extended.csv"
   ]
  },
  {
   "cell_type": "markdown",
   "metadata": {},
   "source": [
    "Column Name | Description | Example | Type\n",
    "-|-|-|-|\n",
    "**Airport ID**| Unique OpenFlights identifier for this airport||\n",
    "**Name**| Name of airport. May or may not contain the City name||\n",
    "**City**| Main city served by airport. May be spelled differently from Name||\n",
    "**Country**| Country or territory where airport is located. See countries.dat to cross-reference to ISO 3166-1 codes.||\n",
    "**IATA**| 3-letter IATA code. Null if not assigned/unknown||\n",
    "**ICAO**| 4-letter ICAO code Null if not assigned||\n",
    "**Latitude**| Decimal degrees, usually to six significant digits. Negative is South, positive is North||\n",
    "**Longitude**| Decimal degrees, usually to six significant digits. Negative is West, positive is East||\n",
    "**Altitude**| Altitude In feet.\n",
    "**Timezone**|Timezone Hours offset from UTC. Fractional hours are expressed as decimals, eg. India is 5.5||\n",
    "**DST**| Daylight savings time. One of E (Europe), A (US/Canada), S (South America), O (Australia), Z (New Zealand), N (None) or U (Unknown). See also: Help: Time\n",
    "**Tz** database time zone Timezone in \"tz\" (Olson) format, eg. \"America/Los_Angeles\".||\n",
    "**Type** Type of the airport. Value \"airport\" for air terminals, \"station\" for train stations, \"port\" for ferry terminals and \"unknown\" if not known||"
   ]
  },
  {
   "cell_type": "markdown",
   "metadata": {},
   "source": [
    "## Airports Data\n",
    "* dataset/airport-codes_csv.csv"
   ]
  },
  {
   "cell_type": "markdown",
   "metadata": {},
   "source": [
    "Column Name | Description | Example | Type\n",
    "-|-|-|-|\n",
    "**ident**| Unique identifier Airport code| 00AK| object \n",
    "**type**| Type of airport | small_airport |object\n",
    "**name**| Name of the airport | Lowell Field | object\n",
    "**elevation_ft**| Altitude of the airport |11.0 |float\n",
    "**continent**| Continent | | object\n",
    "**iso_country**| ISO code of airport country |US| object\n",
    "**iso_region**| ISO code of the region airport | US-KS|object\n",
    "**municipality**| City name where the airport is located | Anchor Point|object\n",
    "**gps_code**| GPS code of the airport | 00AK|object\n",
    "**iata_code**| IATA code of the airport| | object\n",
    "**local_code**| Local code airport |00AK | object\n",
    "**coordinates**|  \tGPS coordinates of the airport | -151.695999146, 59.94919968 | object"
   ]
  },
  {
   "cell_type": "markdown",
   "metadata": {},
   "source": [
    "## i94visa Data\n",
    "* dataset/ i94visa.csv"
   ]
  },
  {
   "cell_type": "markdown",
   "metadata": {},
   "source": [
    "Column Name | Description | Example \n",
    "-|-|-|\n",
    "**Code_visa**|Code to identifier Visa | 1\n",
    "**Visa**|Visa ingress|Business"
   ]
  },
  {
   "cell_type": "markdown",
   "metadata": {},
   "source": [
    "## i94country and i94residence Data\n",
    "* dataset/ i94cit_i94res.csv"
   ]
  },
  {
   "cell_type": "markdown",
   "metadata": {},
   "source": [
    "Column Name | Description | Example \n",
    "-|-|-|\n",
    "**Country_id**|Code country | 509\n",
    "**Country**|Name country|BERMUDA"
   ]
  },
  {
   "cell_type": "markdown",
   "metadata": {},
   "source": [
    "## i94port Data\n",
    "* dataset/i94port.csv"
   ]
  },
  {
   "cell_type": "markdown",
   "metadata": {},
   "source": [
    "Column Name | Description | Example \n",
    "-|-|-|\n",
    "**Port_id**|Code port | SAA\n",
    "**Port_city**|Name port|SANTA ANA\n",
    "**State_id**|State code|AK\n"
   ]
  },
  {
   "cell_type": "markdown",
   "metadata": {},
   "source": [
    "## i94mode Data\n",
    "* dataset/i94mode.csv"
   ]
  },
  {
   "cell_type": "markdown",
   "metadata": {},
   "source": [
    "Column Name | Description | Example \n",
    "-|-|-|\n",
    "**Mode_id**|Code mode arrival US | 2\n",
    "**Mode**|Name mode|Sea"
   ]
  },
  {
   "cell_type": "markdown",
   "metadata": {},
   "source": [
    "## i94addr\n",
    "* dataset/i94addr.csv"
   ]
  },
  {
   "cell_type": "markdown",
   "metadata": {},
   "source": [
    "Column Name | Description | Example \n",
    "-|-|-|\n",
    "**State_id**|Code US State | NY\n",
    "**State**|Name US State| NEW YORK"
   ]
  },
  {
   "cell_type": "code",
   "execution_count": null,
   "metadata": {},
   "outputs": [],
   "source": []
  }
 ],
 "metadata": {
  "kernelspec": {
   "display_name": "Python 3",
   "language": "python",
   "name": "python3"
  },
  "language_info": {
   "codemirror_mode": {
    "name": "ipython",
    "version": 3
   },
   "file_extension": ".py",
   "mimetype": "text/x-python",
   "name": "python",
   "nbconvert_exporter": "python",
   "pygments_lexer": "ipython3",
   "version": "3.6.6"
  }
 },
 "nbformat": 4,
 "nbformat_minor": 4
}

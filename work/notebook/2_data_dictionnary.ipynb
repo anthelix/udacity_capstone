{
 "cells": [
  {
   "cell_type": "markdown",
   "metadata": {},
   "source": [
    "Data Engineering Capstone Project"
   ]
  },
  {
   "cell_type": "markdown",
   "metadata": {},
   "source": [
    "# Datasets Dictionnary"
   ]
  },
  {
   "cell_type": "markdown",
   "metadata": {},
   "source": [
    "### I94 Immigration Data\n",
    "* df_immigration\n",
    "\n",
    "### Global Land Temperature Data\n",
    "* df_temperature\n",
    "\n",
    "### Airports Code Data\n",
    "* df_aiport_code\n",
    "\n",
    "### Global Airports Data\n",
    "* df_global_airports\n",
    "\n",
    "### Iso Country Data\n",
    "* df_iso_country\n",
    "\n",
    "### US cities Demographics\n",
    "* df_demograph\n",
    "\n",
    "### World Development Indicators Data\n",
    "* df_indicator_dev\n",
    "\n",
    "### Education statistics Data\n",
    "* df_educ_data\n",
    "\n",
    "### I94 Description Labels  Description\n",
    "* i94_mode\n",
    "* i94_ctry\n",
    "* i94_addr\n",
    "* i94_visa\n",
    "* i94_port"
   ]
  },
  {
   "cell_type": "markdown",
   "metadata": {},
   "source": [
    "## I94 Immigration Data\n",
    "\n",
    "* immigration_data_sample.csv\n",
    "* There are 1000 rows and 28 columns in *immigration_data_sample.csv*.\n",
    "* df_immigration\n",
    "\n",
    "Column Name | Description | Example | Type\n",
    "-|-|-|-|\n",
    "**Unnamed: 0**| Index|2027561|Int64\n",
    "**cicid**|     ID uniq per record in the dataset | 4.08e+06 | Float64\n",
    "**i94yr**|     4 digit year  | 2016.0 | Float64\n",
    "**i94mon**|    Numeric month |  4.0 | Float64      \n",
    "**i94cit**|     3 digit code of source city for immigration (Born country) | 209.0 | Float64\n",
    "**i94res**|    3 digit code of source country for immigration|209.0|Float64\n",
    "**i94port**|   Port addmitted through | HHW | Object\n",
    "**arrdate**|   Arrival date in the USA | 20566.0 | Float64\n",
    "**i94mode**|   Mode of transportation (1 = Air; 2 = Sea; 3 = Land; 9 = Not reported) | 1.0 | Float\n",
    "**i94addr**|   State of arrival | HI | Object\n",
    "**depdate**|Departure date|20573.0|Float64\n",
    "**i94bir**|    Age in years | 61.0 | Float\n",
    "**i94visa**|   Visa Code - 1 = Business / 2 = Pleasure / 3 = Student |2.0 | Float\n",
    "**count**|Used for summary statistics|1.0|Float64\n",
    "**dtadfile**|  Date Field in I94 files |20160422| int64\n",
    "**vispost**|Department of State where where Visa was issued|MTR|Object\n",
    "**occup**|Occupation that will be performed in U.S.|STU|Object\n",
    "**entdepa**|Arrival Flag - admitted or paroled into the U.S.|G|Object\n",
    "**entdepd**|Departure Flag - Departed, lost I-94 or is deceased|O|Object\n",
    "**entdepu**|Update Flag - Either apprehended, overstayed, adjusted to perm residence|NaN|Float\n",
    "**matflag**|Match flag - Match of arrival and departure records|M|Object\n",
    "**biryear**|4 digit year of birth|1955.0|Object\n",
    "**dtaddto**|Date to which admitted to U.S. (allowed to stay until)|07202016|Object\n",
    "**gender**|Gender|    Gender|M| object\n",
    "**insnum**|INS number|3882.0|Float\n",
    "**airline**|Airline used to arrive in U.S.|MU|Object\n",
    "**admnum**|    Admission number, should be unique and not nullable |5.66e+10| float\n",
    "**fltno**|Flight number of Airline used to arrive in U.S.|00763|Object\n",
    "**visatype**|  Class of admission legally admitting the non-immigrant to temporarily stay in U.S.|WT|object"
   ]
  },
  {
   "cell_type": "markdown",
   "metadata": {},
   "source": [
    "## Global Land Temperature Data\n",
    "\n",
    "* GlobalLandTemperaturesByCity.csv\n",
    "* There are 8599212 rows and 7 columns in  *GlobalLandTemperaturesByCity.csv*. \n",
    "* df_temperature\n",
    "\n",
    "Column Name | Description | Example | Type\n",
    "-|-|-|-|\n",
    "**dt**|Date format YYYY-MM-DD| 1743-11-01| Object\n",
    "**AverageTemperature**|Average Temperature for the city to th date dt|6.07|Float64\n",
    "**AverageTemperatureUncertainty**|Average temperature uncertaintly for the day|1.737|Float\n",
    "**City**| City name| Århus| Object\n",
    "**Country**| Country name | Denmark | Object\n",
    "**Latitude**|Latitude|57.05N \t|Object\n",
    "**Longitude**|Longitude|10.33E|Object\n",
    "\n"
   ]
  },
  {
   "cell_type": "markdown",
   "metadata": {},
   "source": [
    "## Airports Code Data\n",
    "\n",
    "* airport-codes_csv.csv\n",
    "* There are 55075 rows and 12 columns in  *airport-codes_csv.csv*.\n",
    "* df_airport_code\n",
    "\n",
    "Column Name | Description | Example | Type\n",
    "-|-|-|-|\n",
    "**ident**| Unique identifier Airport code| 00AK| Object \n",
    "**type**| Type of airport | small_airport |Object\n",
    "**name**| Name of the airport | Lowell Field | Object\n",
    "**elevation_ft**|Elevation of airport|4.0|Float64\n",
    "**continent**| Continent |OC | Object\n",
    "**iso_country**| ISO code of airport country |US| Object\n",
    "**iso_region**| ISO code of the region airport | US-KS|Object\n",
    "**municipality**| City name where the airport is located | Anchor Point|Object\n",
    "**gps_code**|GPS Code|K03N|Object\n",
    "**iata_code**| IATA code of the airport| UTK| Object\n",
    "**local_code**|Local Code|03N \t|Object\n",
    "**coordinates**|GPS coordinates|169.852005, 11.222|Object\n",
    "\n"
   ]
  },
  {
   "cell_type": "markdown",
   "metadata": {},
   "source": [
    "## Global Airports Data\n",
    "\n",
    "* airports-extended.csv\n",
    "* There are 10668 rows and 13 columns in  *airports-extended.csv*. \n",
    "* df_global_airports\n",
    "\n",
    "Column Name | Description | Example | Type\n",
    "-|-|-|-|\n",
    "**airport ID**|Unique OpenFlights identifier for this airport|1|Int64\n",
    "**name**|Name of airport|Nadzab Airport|Object\n",
    "**city**|Main city served by airport|Nadzab|Object\n",
    "**country**|Country or territory where airport is located|Papua New Guinea|Object\n",
    "**iata**|3-letter IATA code|LAE|Object\n",
    "**icao**|4-letter ICAO code|AYGA \t|Object\n",
    "**latitude**| Decimal degrees, usually to six significant digits. Negative is South, positive is North|-6.08169 \t|Float64\n",
    "**longitude**|Decimal degrees, usually to six significant digits. Negative is West, positive is East|145.391998 \t|Float\n",
    "**altitude**|Altitude In feet|5282|Int64\n",
    "**timezone**| Hours offset from UTC|10|Object\n",
    "**dst**|Daylight savings time. One of E (Europe), A (US/Canada), S (South America), O (Australia), Z (New Zealand), N (None) or U (Unknown)|U|Object\n",
    "**tz_timezone**|Timezone in \"tz\" (Olson) format|Pacific/Port_Moresby|Object\n",
    "**type**| Type of the airport|airport \t|Object\n",
    "**data_source**| Source of this data|OurAirports|Object\n",
    "\n",
    "\n"
   ]
  },
  {
   "cell_type": "markdown",
   "metadata": {},
   "source": [
    "## Iso Country Data\n",
    "\n",
    "* wikipedia-iso-country-codes.csv\n",
    "* There are 246 rows and 4 columns in  *wikipedia-iso-country-codes.csv*.\n",
    "* df_iso_country\n",
    "\n",
    "Column Name | Description | Example | Type\n",
    "-|-|-|-|\n",
    "**Id** |Identifier|1|Int64\n",
    "**Country_name**|Country Name in English|Wallis and Futuna|Object\n",
    "**Alpha2_code**|code 2 letter code for the country|WF|Object\n",
    "**Alpha3_code**|code 3 letter code for the country|WLF|Object\n",
    "**Numeric_code**|ISO 3166-2 code|876|Int64\n",
    "**ISO 3166-2**|code ISO 31166|ISO 3166-2:ZW|Object\n",
    "\n"
   ]
  },
  {
   "cell_type": "markdown",
   "metadata": {},
   "source": [
    "## US cities Demographics\n",
    "* us-cities-demographics.csv\n",
    "* There are 2891 rows and 12 columns in  *us-cities-demographics.csv*. \n",
    "* df_demograph\n",
    "\n",
    "Column Name | Description | Example | Type\n",
    "-|-|-|-|\n",
    "**City**|Name of the city|Silver Spring|Object\n",
    "**State**|US state of the city|Maryland|Object\n",
    "**Median Age**|The median of the age of the population|33.8|Float64\n",
    "**Male Population**|Number of the male population|40601.0|Float64\n",
    "**Female Population**|Number of the female population|41862.0|Float64\n",
    "**Total Population**|Number of the total population|82463 \t|Float64\n",
    "**Number of Veterans**|Number of veterans living in the city|1562.0|Float64\n",
    "**Foreign-born**|Number of residents of the city that were not born in the city|30908.0|Float64\n",
    "**Average Household Size**|Average size of the houses in the city|2.60|Float64\n",
    "**State Code**|Code of the state of the city|MD|Object|\n",
    "**Race**|Race class|Hispanic or Latino|Object\n",
    "**Count**|Number of individual of each race|25924|Int64"
   ]
  },
  {
   "cell_type": "markdown",
   "metadata": {},
   "source": [
    "## World Development Indicators Data\n",
    "* WDIData.csv\n",
    "* There are 422136 rows and 64 columns in  *WDIData.csv*.\n",
    "* df_indicator_dev\n",
    "\n",
    "Column Name | Description | Example | Type\n",
    "-|-|-|-|\n",
    "**Country Name**|Name of the country|Arab World|Object|\n",
    "**Country Code**|3 letters code of country|ARB|Object\n",
    "**Indicator Name**|indicators of economic development|2005 PPP conversion factor, GDP (LCU per inter...|Object\n",
    "**Indicator Code**|letters indicator code|PA.NUS.PPP.05|Object\n",
    "**1960 ...2018**|one column per year since 1960|2018|Float64"
   ]
  },
  {
   "cell_type": "markdown",
   "metadata": {},
   "source": [
    "## Education statistics Data\n",
    "* Not Used\n",
    "* education-statistics/EdStatsData.csv\n",
    "* There are 886930 rows and 70 columns in  *education-statistics/EdStatsData.csv*. \n",
    "* df_Educ_data\n",
    "\n",
    "Column Name | Description | Example | Type\n",
    "-|-|-|-|\n",
    "**Country Name**|Name of the country|Arab World|Object|\n",
    "**Country Code**|3 letters code of country|ARB|Object\n",
    "**Indicator Name**|indicators of education development|Adjusted net enrolment rate, lower secondary, ...|Object\n",
    "**Indicator Code**|letters indicator code|UIS.NERA.2|Object\n",
    "**1970 ...2100**|one column per year since 1970|2018|Float64"
   ]
  },
  {
   "cell_type": "markdown",
   "metadata": {},
   "source": [
    "## i94addr Data\n",
    "\n",
    "* i94addr.csv\n",
    "* There are 55 rows and 2 columns in  *i94addr.csv*. \n",
    "* i94_state\n",
    "\n",
    "Column Name | Description | Example \n",
    "-|-|-|\n",
    "**State_id**|Code US State | Al\n",
    "**State**|Name US State|Alabama"
   ]
  },
  {
   "cell_type": "markdown",
   "metadata": {},
   "source": [
    "## i94city_i94res Data\n",
    "\n",
    "* i94cit_i94res.csv\n",
    "* \n",
    "* i94_city\n",
    "\n",
    "Column Name | Description | Example \n",
    "-|-|-|\n",
    "**Country_id**|Code country | 509\n",
    "**Country**|Name country|BERMUDA"
   ]
  },
  {
   "cell_type": "markdown",
   "metadata": {},
   "source": [
    "## i94mode Data\n",
    "\n",
    "* i94mode.csv\n",
    "* There are 4 rows and 2 columns in  *i94mode.csv*\n",
    "* i94_mode\n",
    "\n",
    "Column Name | Description | Example \n",
    "-|-|-|\n",
    "**Mode_id**|Code mode arrival US | 2\n",
    "**Mode**|Name mode|Sea"
   ]
  },
  {
   "cell_type": "markdown",
   "metadata": {},
   "source": [
    "## i94port Data\n",
    "\n",
    "* i94port.csv\n",
    "* There are 583 rows and 3 columns in  *i94port.csv*.\n",
    "* i94_port\n",
    "\n",
    "Column Name | Description | Example \n",
    "-|-|-|\n",
    "**Port_id**|Code port | Nbo\n",
    "**Port_city**|Name cty of the aiport|Nairobi\n",
    "**State_id**|State/country code code|Kenya"
   ]
  },
  {
   "cell_type": "markdown",
   "metadata": {},
   "source": [
    "## i94visa Data\n",
    "\n",
    "* i94visa.csv\n",
    "* There are 3 rows and 2 columns in  *i94visa.csv*.\n",
    "* i94_mode\n",
    "\n",
    "Column Name | Description | Example \n",
    "-|-|-|\n",
    "**Code_visa**|Code to identifier Visa | 1\n",
    "**Visa**|Visa ingress|Business"
   ]
  }
 ],
 "metadata": {
  "kernelspec": {
   "display_name": "Python 3",
   "language": "python",
   "name": "python3"
  },
  "language_info": {
   "codemirror_mode": {
    "name": "ipython",
    "version": 3
   },
   "file_extension": ".py",
   "mimetype": "text/x-python",
   "name": "python",
   "nbconvert_exporter": "python",
   "pygments_lexer": "ipython3",
   "version": "3.6.6"
  }
 },
 "nbformat": 4,
 "nbformat_minor": 4
}

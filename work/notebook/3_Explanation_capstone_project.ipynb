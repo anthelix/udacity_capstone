{
 "cells": [
  {
   "cell_type": "markdown",
   "metadata": {},
   "source": [
    "###### Data Engineering Capstone Project\n",
    "\n",
    "# US Student Immigration Part 3\n",
    "> The purpose of this project is to study the foreign students. The goal is to offer Data teams Analysts a selection of data concerning immigration to the United States.\n",
    "\n",
    "#### Project Summary\n",
    "\n",
    "The project follows the follow steps:\n",
    "* [Step 1: Scope the Project and Gather Data](#Step-1:-Scope-the-Project-and-Gather-Data)\n",
    "\n",
    "* [Step 2: Explore and Assess the Data](#Step-2:-Explore-Assess-the-Data) \n",
    "\n",
    "* [Step 3: Define the Data Model](#Step-3:-Define-the-Data-Model)\n",
    "* [Step 4: Run ETL to Model the Data](#Step-4:-Run-ETL-to-Model-the-Data)\n",
    "* [Step 5: Complete Project Write Up](#Step-5:-Complete-Project-Write-Up)"
   ]
  },
  {
   "cell_type": "code",
   "execution_count": 1,
   "metadata": {},
   "outputs": [],
   "source": [
    "import os\n",
    "import io\n",
    "import re\n",
    "import sys\n",
    "import datetime\n",
    "import pandas as pd\n",
    "from datetime import datetime\n",
    "from pyspark.sql import SparkSession, SQLContext\n",
    "import pyspark.sql.functions as func\n",
    "from pyspark.sql.functions import udf\n",
    "from pyspark.sql.types import *\n",
    "from pyspark.sql import functions as F\n",
    "from pyspark.sql import types as T\n",
    "from pyspark.sql.functions import isnan, when, count, col\n",
    "from pyspark.sql.functions import *\n",
    "from pyspark.sql.types import FloatType, StringType, DecimalType\n",
    "\n",
    "import datetime as dt\n",
    "pd.set_option('display.max_colwidth', 200)\n",
    "pd.set_option(\"display.precision\", 2)"
   ]
  },
  {
   "cell_type": "code",
   "execution_count": 2,
   "metadata": {},
   "outputs": [
    {
     "data": {
      "text/plain": [
       "True"
      ]
     },
     "execution_count": 2,
     "metadata": {},
     "output_type": "execute_result"
    }
   ],
   "source": [
    "'pyspark.sql.types' in sys.modules"
   ]
  },
  {
   "cell_type": "markdown",
   "metadata": {},
   "source": [
    "# Step 1: Scope the Project and Gather Data\n",
    "\n",
    "Data warehouse allow us to collect, transform and manage data from varied sources. Then, Data Team Business connect to it and analyse data. \n",
    "Apache Spark has been used to gather data\n",
    "Amazon S3 buckets store the data in parquet files for the Data teams.\n",
    "The main dataset includes data on immigration to the United State.\n",
    "The questions about foreign students and their choice to come to US may be useful to propose services.   \n",
    "How many students arrived in US in April?    \n",
    "Which Airline bring the most student in April?    \n",
    "What are the top city to arrive in the USA?   \n",
    "Where are from?   \n",
    "what are the student profils (age, country born, country indicators)? \n",
    "\n",
    "The main dataset includes data on immigration to the United State, and other datasets. In this work book, the data is transforming and cleasning.  \n",
    "\n",
    "\n",
    "### Describe and Gather Data\n",
    "\n",
    "[Data dictionnary](2_data_dictionnary.ipynb) provide informations abou dataset and tables used.\n",
    "\n",
    "#### Data Source\n",
    "\n",
    "Data |File |Data Source\n",
    "-|-|-|\n",
    "I94 Immigration | immigration_data_sample.csv| [US National Tourism and Trade Office](https://travel.trade.gov/research/programs/i94/description.asp)\n",
    "I94 Description Labels  Description|I94_SAS_Labels_Descriptions.SAS |US National Tourism and Trade Office\n",
    "Global Land Temperature|GlobalLandTemperaturesByCity.csv| [Berkeley Earth](http://berkeleyearth.org/)\n",
    "Global Airports|airports-extended.csv| [OpenFlights.org and user contributions](https://www.kaggle.com/open-flights/airports-train-stations-and-ferry-terminals)\n",
    "Airports codes |airport-codes_csv.csv| provide by Udacity\n",
    "Iso country | wikipedia-iso-country-codes.csv|[Kaggle](https://www.kaggle.com/juanumusic/countries-iso-codes)\n",
    "US Cities Demographic| us-cities-demographics.csv|provide by Udacity\n",
    "Indicators developpment| WDIData.csv| [Kaggle](https://www.kaggle.com/xavier14/wdidata)\n",
    "Education-statistics| EdStatsData.csv|provide by Kaggle [World Bank](https://www.kaggle.com/kostya23/worldbankedstatsunarchived) # Edit: not used\n",
    "\n",
    "\n",
    "#### I94 Immigration data  Description: \n",
    "Each line of immigration_data_sample.csv correspond to a record of I-94 Form from the U.S. immigration officers. It's provide information about Arrival/Departure to foreign visitors. Some explanation about the [Visitor Arrivals Program (I-94 Form)](https://travel.trade.gov/research/programs/i94/description.asp).  \n",
    "\n",
    "Dataset information: There is a file per month for 2016, storage format is sas7bdat. These records are described according to 28 variables.   \n",
    "A small description is provided [here](2_data_dictionnary.ipynb)  \n",
    "I keep this variables for this project( _df_immigration_ ):\n",
    "    \n",
    "Column Name | Description | Example | Type\n",
    "-|-|-|-|\n",
    "**cicid**|     ID uniq per record in the dataset | 4.08e+06 | float64\n",
    "**i94yr**|     4 digit year  | 2016.0 | float64\n",
    "**i94mon**|    Numeric month |  4.0 | float64      \n",
    "**i94cit**|     3 digit code of source city for immigration (Born country) | 209.0 | float64\n",
    "**i94res**|    3 digit code of source country for immigration |209.0 | float64\n",
    "**i94port**|   Port addmitted through | HHW | object\n",
    "**arrdate**|   Arrival date in the USA | 20566.0 | float64\n",
    "**i94mode**|   Mode of transportation (1 = Air; 2 = Sea; 3 = Land; 9 = Not reported) | 1.0 | float\n",
    "**i94addr**|   State of arrival | HI | object\n",
    "**i94bir**|    Age in years | 61.0 | float\n",
    "**i94visa**|   Visa Code - 1 = Business / 2 = Pleasure / 3 = Student |2.0 | float\n",
    "**dtadfile**|  Date Field in I94 files |20160422| int 64\n",
    "**gender**|    Gender|M| object\n",
    "**visatype**|  Class of admission legally admitting the non-immigrant to temporarily stay in U.S.|WT|object\n",
    "**airline**|Airline used to arrive in U.S.|MU|Object\n",
    "\n",
    "\n",
    "\n",
    "df_immigration   \n",
    "Additional files of this dataset are provide to give more desciption about this dataset\n",
    "\n",
    "\n",
    "#### I94 Description Labels  Description\n",
    "The I94_SAS_Labels_Description.SAS file is provide to add explanations  about code used in _data/18-83510-I94-Data-2016/i94_apr16_sub.sas7bdat._ \n",
    "I parse this file, save the result in 5 .csv files. \n",
    "    * i94visa Data\n",
    "    * i94country and i94residence Data\n",
    "    * i94port Data\n",
    "    * i94mode Data\n",
    "    * i94addr\n",
    "A small description is provided [here](2_data_dictionnary.ipynb)\n",
    "\n",
    "####  Global Land Temperature Data  Description\n",
    "The Berkeley Earth Surface Temperature Study provide climate information. Each line correspond to a record of temperature per day from city around the world.     \n",
    "Dataset information: the GlobalLandTemperaturesByCity.csv has 7 variables. A small description is provided [here](2_data_dictionnary.ipynb). I keep this variables for this project ( _df_temperature_ ):\n",
    "\n",
    "Column Name | Description | Example | Type\n",
    "-|-|-|-|\n",
    "**dt**|Date format YYYY-MM-DD| 1743-11-01| object\n",
    "**AverageTemperature**|Average Temperature for the city to th date dt|6.07|float64\n",
    "**City**| City name| Århus| object\n",
    "**Country**| Country name | Denmark | object\n",
    "\n",
    "#### Global Airports Data\n",
    "This is a database of airports, train stations, and ferry terminals around the world. Some of the data come from public sources and some of it comes from OpenFlights.org user contributions.      \n",
    "Dataset information: A small description is provided [here](2_data_dictionnary.ipynb). I give name and keep this variables ( _df_global_airports_ ):\n",
    "\n",
    "Column Name | Description | Example | Type\n",
    "-|-|-|-|\n",
    "**airport_ID**|Id in the table|1| Int\n",
    "**airport_name**|Name of airport|Nadzab Airport|Object\n",
    "**airport_city**|Main city served by airport|Nadzab|Object\n",
    "**airport_country**|Country or territory where airport is located|Papua New Guinea|Object\n",
    "**airport_iata**|3-letter IATA code|LAE|Object\n",
    "\n",
    "\n",
    "#### Airports Data Description\n",
    "The airport code refers to the IATA airport code, 3 letters code unique for all airports in the world. It's a code used in passenger reservation, ticket and baggage-handling too.     \n",
    "Dataset information: The airport-codes_csv.csv provides informations about aiports and have 12 variables. A small description is provided [here](2_data_dictionnary.ipynb). I keep this variables for this project ( _df_airport_code_ ):\n",
    "\n",
    "Column Name | Description | Example | Type\n",
    "-|-|-|-|\n",
    "**ident**| Unique identifier Airport code| 00AK| object \n",
    "**type**| Type of airport | small_airport |object\n",
    "**name**| Name of the airport | Lowell Field | object\n",
    "**iso_country**| ISO code of airport country |US| object\n",
    "**iso_region**| ISO code of the region airport | US-KS|object\n",
    "**municipality**| City name where the airport is located | Anchor Point|object\n",
    "**iata_code**| IATA code of the airport| | object\n",
    "\n",
    "#### Iso country\n",
    "This is a database about the different code useful to identify country.        \n",
    "Datasset information: A small description is provided [here](2_data_dictionnary.ipynb). This table gives us informations about Country codes used to identify each country and contains 4 variables. I keep this variables for this project ( _df_iso_country_ ):\n",
    "\n",
    "Column Name | Description | Example | Type\n",
    "-|-|-|-|\n",
    "**Country_name**|Country Name in English|Wallis and Futuna|Object\n",
    "**Alpha2_code**|code 2 letter code for the country|WF|Object\n",
    "**Alpha3_code**|code 3 letter code for the country|WLF|Object\n",
    "**Numeric_code**|ISO 3166-2 code|876|Int\n",
    "\n",
    "#### US cities Demographics\n",
    "This dataset contains information about the demographics of all US cities and come from the US Census Bureau.     \n",
    "Dataset information: A small description is provided [here](2_data_dictionnary.ipynb). \n",
    "This dataset contains 12 variables and provides simple informations about us state population. \n",
    "I keep this variables for this project ( _df_demograph_ ):\n",
    "\n",
    "Column Name | Description | Example | Type\n",
    "-|-|-|-|\n",
    "**City**|Name of the city|Silver Spring|Object\n",
    "**State**|US state of the city|Maryland|Object\n",
    "**Median Age**|The median of the age of the population|33.8|Float64\n",
    "**Male Population**|Number of the male population|40601.0|Float64\n",
    "**Female Population**|Number of the female population|41862.0|Float64\n",
    "**Total Population**|Number of the total population|82463 \t|Float64\n",
    "**Foreign-born**|Number of residents of the city that were not born in the city|30908.0|Float64\n",
    "**State Code**|Code of the state of the city|MD|Object|\n",
    "**Race**|Race class|Hispanic or Latino|Object\n",
    "**Count**|Number of individual of each race|25924|Int64\n",
    "\n",
    "#### World Development Indicators\n",
    "The primary World Bank collection of development indicators, compiled from officially-recognized international sources. It presents the most current and accurate global development data available, and includes national, regional and global estimates.   \n",
    "Dataset information: This dataset contains 64 variables with economics context , most of which are variables per year(1960 to 2018).\n",
    "A small description is provided [here](2_data_dictionnary.ipynb).\n",
    "I keep this variables for this project ( _df_indicator_dev_ ):\n",
    "\n",
    "Column Name | Description | Example | Type\n",
    "-|-|-|-|\n",
    "**Country Name**|Name of the country|Arab World|Object|\n",
    "**Country Code**|3 letters code of country|ARB|Object\n",
    "**Indicator Name**|indicators of economic development|2005 PPP conversion factor, GDP (LCU per inter...|Object\n",
    "**Indicator Code**|letters indicator code|PA.NUS.PPP.05|Object\n",
    "**1960 ...2018**|one column per year since 1960|2018|Float64\n",
    "\n",
    "#### Education statistics Data\n",
    "* Edit: Not used  \n",
    "The primary World Bank collection of development indicators, compiled from officially-recognized international sources. It presents the most current and accurate global development data available, and includes national, regional and global estimates.    \n",
    "Dataset information: This dataset contains 64 variables witheducation context , most of which are variables per year(1970 to 2100).\n",
    "A small description is provided [here](2_data_dictionnary.ipynb).\n",
    "I keep this variables for this project ( _df_Educ_data_ ):\n",
    "\n",
    "Column Name | Description | Example | Type\n",
    "-|-|-|-|\n",
    "**Country Name**|Name of the country|Arab World|Object|\n",
    "**Country Code**|3 letters code of country|ARB|Object\n",
    "**Indicator Name**|indicators of education development|Adjusted net enrolment rate, lower secondary, ...|Object\n",
    "**Indicator Code**|letters indicator code|UIS.NERA.2|Object\n",
    "**1970 ...2100**|one column per year since 1970|2018|Float64"
   ]
  },
  {
   "cell_type": "markdown",
   "metadata": {},
   "source": [
    "# Step 2: Explore and Assess the Data\n",
    "## Explore the Data "
   ]
  },
  {
   "cell_type": "markdown",
   "metadata": {},
   "source": [
    "#### Data Source\n",
    "\n",
    "[Datactionnary](2_data_dictionnary.ipynb) provides informations about dataset and tables used. [This notebook](1_Exploration_python.ipynb) performs a first exploration with Python and explain the datasets, which variables I kept. \n",
    "Edit: decide not used Education-statistics, i found indicators from Indicators developpment\n",
    "\n",
    "Dataset |File |Data Source|Dataframe Name\n",
    "-|-|-|-|\n",
    "I94 Immigration | immigration_data_sample.csv| [US National Tourism and Trade Office](https://travel.trade.gov/research/programs/i94/description.asp)| df_immigration\n",
    "I94 Description Labels  Description|I94_SAS_Labels_Descriptions.SAS |US National Tourism and Trade Office|\n",
    "Global Land Temperature|GlobalLandTemperaturesByCity.csv| [Berkeley Earth](http://berkeleyearth.org/)|df_temperature\n",
    "Global Airports|airports-extended.csv| [OpenFlights.org and user contributions](https://www.kaggle.com/open-flights/airports-train-stations-and-ferry-terminals)|df_global_airports\n",
    "Airports codes |airport-codes_csv.csv| provide by Udacity|df_airport_code\n",
    "Iso country | wikipedia-iso-country-codes.csv|[Wikipedia](https://gist.github.com/radcliff/f09c0f88344a7fcef373)|df_iso_country\n",
    "US Cities Demographic| us-cities-demographics.csv|provide by Udacity|df_demograph\n",
    "Indicators developpment| WDIData.csv| [World Bank](https://www.kaggle.com/xavier14/wdidata)|df_indicator_dev\n",
    "Education-statistics| EdStatsData.csv|provide by Kaggle [World Bank](https://www.kaggle.com/kostya23/worldbankedstatsunarchived)|df_Educ_data"
   ]
  },
  {
   "cell_type": "markdown",
   "metadata": {},
   "source": [
    "##### I94 Immigration Data\n",
    "* Source: https://travel.trade.gov/research/reports/historical/2016.html\n",
    "    * data 'data/18-83510-I94-Data-2016', provide one file per month\n",
    "        * These records are described according to 28 variables and 3M  rows per file\n",
    "        *  It's provide information about Arrival/Departure to foreign visitors        \n",
    "    * I94_SAS_Labels_Description.SAS for variable descriptions\n",
    "    \n",
    "##### Global Land Temperature Data\n",
    "* Source: http://berkeleyearth.org/\n",
    "    * data 'GlobalLandTemperaturesByCity.csv' provide climate information\n",
    "        * Each line correspond to a record of temperature per day from city around the world.\n",
    "        * The GlobalLandTemperaturesByCity.csv has 7 variables and 8599213 rows.\n",
    "        \n",
    "##### Global Airports Data\n",
    "* Source: https://www.kaggle.com/open-flights/airports-train-stations-and-ferry-terminals\n",
    "    * data 'airports-extended.csv'. Some of the data come from public sources and some of it comes from OpenFlights.org user contributions.\n",
    "        * It's provide informatioms about of airports, train stations, and ferry terminals around the world.\n",
    "        * There are 4 variables in 'airports-extended.csv'and 10668 rows\n",
    "        \n",
    "##### Airports Data Description Data\n",
    "* Source: https://datahub.io/core/airport-codes#data\n",
    "    * airport-codes_csv.csv. The airport code refers to the IATA airport code, 3 letters code unique for all airports in the world\n",
    "        * The airport-codes_csv.csv provides informations about aiports.\n",
    "        * There are 55075 rows and 12 columns in airport-codes_csv.csv.\n",
    "        \n",
    "##### Iso country Data\n",
    "* Source: https://gist.github.com/radcliff/f09c0f88344a7fcef373\n",
    "    * data 'wikipedia-iso-country-codes.csv'. This is a database about the different code useful to identify country.\n",
    "        * This table gives us informations about Country codes used to identify each country\n",
    "        * There are 4 variables and 247 rows.\n",
    "        \n",
    "##### US cities Demographics Data\n",
    "* Source: https://data.census.gov/cedsci/. \n",
    "    * data 'us-cities-demographics.csv'. This dataset contains information about the demographics of all US cities and come from the US Census Bureau.\n",
    "        * Provides simple informations about US State population\n",
    "        * Contains 12 variables and 2892 rows\n",
    "        \n",
    "##### World Development Indicators Data\n",
    "* Source: https://www.kaggle.com/xavier14/wdidata\n",
    "    * data 'WDIData.csv'. The primary World Bank collection of development indicators, compiled from officially-recognized international sources. \n",
    "        * It presents the most current and accurate global development data available, and includes national, regional and global estimates.\n",
    "        * Contains 64 variables, most of which are variables per year(1960 to 2018), with economics context and 422137 rows.\n",
    "               \n",
    "##### i94addr Data\n",
    "* Source: I94_SAS_Labels_Description.SAS\n",
    "    * US States code defined in I94_SAS_Labels_Description.SAS\n",
    "        * data 'i94addr.csv' provides State Id and State name  \n",
    "        \n",
    "##### i94city_i94res Data\n",
    "* Source: I94_SAS_Labels_Description.SAS\n",
    "    * data 'i94cit_i94res.csv' defined Code Country by 3 digits\n",
    "        * data 'i94cit_i94res.csv' provides Country Id and Country name\n",
    "        \n",
    "##### i94mode Data\n",
    "* Source: I94_SAS_Labels_Description.SAS\n",
    "    * data 'i94mode.csv' defined arrival US\n",
    "        * data 'i94mode.csv' provides code Mode and name Code.\n",
    "        \n",
    "##### i94port Data\n",
    "* Source: I94_SAS_Labels_Description.SAS\n",
    "    * data 'i94port.csv'\n",
    "        * data 'i94port.csv' provides Port Id, Port city and State Id.\n",
    "        \n",
    "##### i94visa Data\n",
    "* Source: I94_SAS_Labels_Description.SAS\n",
    "    * data 'i94visa.csv'\n",
    "        * data 'i94visa.csv' povides code Visa ans Visa"
   ]
  },
  {
   "cell_type": "markdown",
   "metadata": {},
   "source": [
    "### SETUP SPARK AND ENVIRONMENT"
   ]
  },
  {
   "cell_type": "code",
   "execution_count": 3,
   "metadata": {},
   "outputs": [],
   "source": [
    "output_parquet = '../../output/'\n",
    "path = '../../data/'"
   ]
  },
  {
   "cell_type": "code",
   "execution_count": 4,
   "metadata": {},
   "outputs": [],
   "source": [
    "#!pwd"
   ]
  },
  {
   "cell_type": "code",
   "execution_count": 5,
   "metadata": {},
   "outputs": [],
   "source": [
    "#!ls ../../data/"
   ]
  },
  {
   "cell_type": "code",
   "execution_count": 6,
   "metadata": {},
   "outputs": [
    {
     "name": "stdout",
     "output_type": "stream",
     "text": [
      "No variables match your requested type.\n"
     ]
    }
   ],
   "source": [
    "%whos DataFrame\n"
   ]
  },
  {
   "cell_type": "code",
   "execution_count": null,
   "metadata": {},
   "outputs": [],
   "source": []
  },
  {
   "cell_type": "code",
   "execution_count": 7,
   "metadata": {},
   "outputs": [
    {
     "data": {
      "application/javascript": [
       "IPython.notebook.set_autosave_interval(60000)"
      ]
     },
     "metadata": {},
     "output_type": "display_data"
    },
    {
     "name": "stdout",
     "output_type": "stream",
     "text": [
      "Autosaving every 60 seconds\n"
     ]
    }
   ],
   "source": [
    "#TODO update with the latest version\n",
    "def create_spark_session():\n",
    "    spark = SparkSession.builder \\\n",
    "                    .appName(\"Us_student_immigation\") \\\n",
    "                    .config(\"spark.jars.packages\",\"saurfang:spark-sas7bdat:3.0.0-s_2.12\") \\\n",
    "                    .enableHiveSupport() \\\n",
    "                    .getOrCreate()\n",
    "    return(spark)\n",
    "spark = create_spark_session()\n",
    "%autosave 60"
   ]
  },
  {
   "cell_type": "markdown",
   "metadata": {},
   "source": [
    "## 1_LOAD FILES"
   ]
  },
  {
   "cell_type": "markdown",
   "metadata": {},
   "source": [
    "### I94 Immigration Data\n",
    "#### Exploration\n",
    "\n",
    "* Path = '../../data/18-83510-I94-Data-2016/i94_apr16_sub.sas7bdat'\n",
    "* There are 3096313 rows and 29 columns in *i94_apr16_sub.sas7bdat*.\n",
    "* Name of the dataFrame: df_immigration\n",
    "* As we see in [data exploration file](./0_dataset_information.ipynb), some variables are either not present or not very present (visapost, occup, entdepu, insnum)\n",
    "* Variables droped: depdate, count, occup, entdepa, entdepd, entdepu, matflag, biryear, insnum, dtadfile, visapost, fltno, admnum, insnum, dtaddto. \t\n",
    "* Variables used:\n",
    "\n",
    "Column Name | Description |\n",
    "-|-|\n",
    "**cicid**|     ID uniq per record in the dataset \n",
    "**i94yr**|     4 digit year  \n",
    "**i94mon**|    Numeric month \n",
    "**i94cit**|     3 digit code of source city for immigration (Born country) \n",
    "**i94res**|    3 digit code of source country for immigration\n",
    "**i94port**|   Port addmitted through \n",
    "**i94mode**|   Mode of transportation (1 = Air; 2 = Sea; 3 = Land; 9 = Not reported) \n",
    "**i94addr**|   State of arrival \n",
    "**i94bir**|    Age in years \n",
    "**i94visa**|   Visa Code - 1 = Business / 2 = Pleasure / 3 = Student\n",
    "**gender**|    Gender\n",
    "**airline**|   Airline used to arrive in U.S.\n",
    "**admnum**|    Admission number, should be unique and not nullable \n",
    "**visatype**|  Class of admission legally admitting the non-immigrant to temporarily stay in U.S."
   ]
  },
  {
   "cell_type": "markdown",
   "metadata": {},
   "source": [
    "#### Read I94 data"
   ]
  },
  {
   "cell_type": "code",
   "execution_count": 8,
   "metadata": {},
   "outputs": [],
   "source": [
    "def load_immigration(path, file):\n",
    "    df = spark.read \\\n",
    "        .format('com.github.saurfang.sas.spark') \\\n",
    "        .option('header', 'true') \\\n",
    "        .load(path+file)\n",
    "    nb_rows = df.count()\n",
    "    print(f'*****         Loading {nb_rows} rows')\n",
    "    print(f'*****         Display the Schema')\n",
    "    df.printSchema()\n",
    "    print(f'*****         Display few rows')\n",
    "    df.show(3, truncate = False)\n",
    "    return df, nb_rows"
   ]
  },
  {
   "cell_type": "code",
   "execution_count": 9,
   "metadata": {},
   "outputs": [
    {
     "name": "stdout",
     "output_type": "stream",
     "text": [
      "*****         Loading 3096313 rows\n",
      "*****         Display the Schema\n",
      "root\n",
      " |-- cicid: double (nullable = true)\n",
      " |-- i94yr: double (nullable = true)\n",
      " |-- i94mon: double (nullable = true)\n",
      " |-- i94cit: double (nullable = true)\n",
      " |-- i94res: double (nullable = true)\n",
      " |-- i94port: string (nullable = true)\n",
      " |-- arrdate: double (nullable = true)\n",
      " |-- i94mode: double (nullable = true)\n",
      " |-- i94addr: string (nullable = true)\n",
      " |-- depdate: double (nullable = true)\n",
      " |-- i94bir: double (nullable = true)\n",
      " |-- i94visa: double (nullable = true)\n",
      " |-- count: double (nullable = true)\n",
      " |-- dtadfile: string (nullable = true)\n",
      " |-- visapost: string (nullable = true)\n",
      " |-- occup: string (nullable = true)\n",
      " |-- entdepa: string (nullable = true)\n",
      " |-- entdepd: string (nullable = true)\n",
      " |-- entdepu: string (nullable = true)\n",
      " |-- matflag: string (nullable = true)\n",
      " |-- biryear: double (nullable = true)\n",
      " |-- dtaddto: string (nullable = true)\n",
      " |-- gender: string (nullable = true)\n",
      " |-- insnum: string (nullable = true)\n",
      " |-- airline: string (nullable = true)\n",
      " |-- admnum: double (nullable = true)\n",
      " |-- fltno: string (nullable = true)\n",
      " |-- visatype: string (nullable = true)\n",
      "\n",
      "*****         Display few rows\n",
      "+-----+------+------+------+------+-------+-------+-------+-------+-------+------+-------+-----+--------+--------+-----+-------+-------+-------+-------+-------+--------+------+------+-------+-------------+-----+--------+\n",
      "|cicid|i94yr |i94mon|i94cit|i94res|i94port|arrdate|i94mode|i94addr|depdate|i94bir|i94visa|count|dtadfile|visapost|occup|entdepa|entdepd|entdepu|matflag|biryear|dtaddto |gender|insnum|airline|admnum       |fltno|visatype|\n",
      "+-----+------+------+------+------+-------+-------+-------+-------+-------+------+-------+-----+--------+--------+-----+-------+-------+-------+-------+-------+--------+------+------+-------+-------------+-----+--------+\n",
      "|6.0  |2016.0|4.0   |692.0 |692.0 |XXX    |20573.0|null   |null   |null   |37.0  |2.0    |1.0  |null    |null    |null |T      |null   |U      |null   |1979.0 |10282016|null  |null  |null   |1.897628485E9|null |B2      |\n",
      "|7.0  |2016.0|4.0   |254.0 |276.0 |ATL    |20551.0|1.0    |AL     |null   |25.0  |3.0    |1.0  |20130811|SEO     |null |G      |null   |Y      |null   |1991.0 |D/S     |M     |null  |null   |3.73679633E9 |00296|F1      |\n",
      "|15.0 |2016.0|4.0   |101.0 |101.0 |WAS    |20545.0|1.0    |MI     |20691.0|55.0  |2.0    |1.0  |20160401|null    |null |T      |O      |null   |M      |1961.0 |09302016|M     |null  |OS     |6.66643185E8 |93   |B2      |\n",
      "+-----+------+------+------+------+-------+-------+-------+-------+-------+------+-------+-----+--------+--------+-----+-------+-------+-------+-------+-------+--------+------+------+-------+-------------+-----+--------+\n",
      "only showing top 3 rows\n",
      "\n"
     ]
    }
   ],
   "source": [
    "file = '18-83510-I94-Data-2016/i94_apr16_sub.sas7bdat'\n",
    "# refaire avec S3 et tous les fichiers (get_path_sas_folder parquet file)\n",
    "immigration, rows_immig = load_immigration(path, file)\n"
   ]
  },
  {
   "cell_type": "markdown",
   "metadata": {},
   "source": [
    "### Global Land Temperature Data\n",
    "#### Exploration\n",
    "* Path = '../../data/GlobalLandTemperaturesByCity.csv\n",
    "* There are 8599212 rows and 7 columns in *GlobalLandTemperaturesByCity.csv*.\n",
    "* Name of the dataFrame: df_temperature\n",
    "\n",
    "* As we see in [data exploration file](./0_dataset_information.ipynb), the first date is in 1743, and we find a row per day per town. So we will make aggregation for this data set and drop 'AverageTemperature' , 'Latitude' and 'Longitude' columns\n",
    "* Variables used:\n",
    "\n",
    "Column Name | Description \n",
    "-|-|\n",
    "**dt**|Date format YYYY-MM-DD| \n",
    "**AverageTemperature**|Average Temperature for the city to th date dt|\n",
    "**City**| City name| \n",
    "**Country**| Country name |"
   ]
  },
  {
   "cell_type": "markdown",
   "metadata": {},
   "source": [
    "#### Read GlobalLandTemperaturesByCity"
   ]
  },
  {
   "cell_type": "code",
   "execution_count": 10,
   "metadata": {},
   "outputs": [],
   "source": [
    "def load_temperature(path, file):\n",
    "    df = spark.read \\\n",
    "        .format(\"csv\") \\\n",
    "        .option('header', 'true') \\\n",
    "        .option('inferSchema', 'true') \\\n",
    "        .load(path+file)\n",
    "    nb_rows = df.count()\n",
    "    print(f'*****         Loading {nb_rows} rows')\n",
    "    print(f'*****         Display the Schema')\n",
    "    df.printSchema()\n",
    "    print(f'*****         Display few rows')\n",
    "    df.show(3, truncate = False)\n",
    "    return df, nb_rows"
   ]
  },
  {
   "cell_type": "code",
   "execution_count": 11,
   "metadata": {},
   "outputs": [
    {
     "name": "stdout",
     "output_type": "stream",
     "text": [
      "*****         Loading 8599212 rows\n",
      "*****         Display the Schema\n",
      "root\n",
      " |-- dt: string (nullable = true)\n",
      " |-- AverageTemperature: double (nullable = true)\n",
      " |-- AverageTemperatureUncertainty: double (nullable = true)\n",
      " |-- City: string (nullable = true)\n",
      " |-- Country: string (nullable = true)\n",
      " |-- Latitude: string (nullable = true)\n",
      " |-- Longitude: string (nullable = true)\n",
      "\n",
      "*****         Display few rows\n",
      "+----------+------------------+-----------------------------+-----+-------+--------+---------+\n",
      "|dt        |AverageTemperature|AverageTemperatureUncertainty|City |Country|Latitude|Longitude|\n",
      "+----------+------------------+-----------------------------+-----+-------+--------+---------+\n",
      "|1743-11-01|6.068             |1.7369999999999999           |Århus|Denmark|57.05N  |10.33E   |\n",
      "|1743-12-01|null              |null                         |Århus|Denmark|57.05N  |10.33E   |\n",
      "|1744-01-01|null              |null                         |Århus|Denmark|57.05N  |10.33E   |\n",
      "+----------+------------------+-----------------------------+-----+-------+--------+---------+\n",
      "only showing top 3 rows\n",
      "\n"
     ]
    }
   ],
   "source": [
    "file = 'GlobalLandTemperaturesByCity.csv'\n",
    "temperature, rows_temp = load_temperature(path, file)"
   ]
  },
  {
   "cell_type": "markdown",
   "metadata": {},
   "source": [
    "### Airports Code Data\n",
    "#### Exploration\n",
    "* Path = '../../data/airport-codes_csv.csv'\n",
    "* There are 55075 rows and 12 column in *airport-codes_csv.csv*\n",
    "* Name of the DataFrame : df_airport_code\n",
    "* Some variables left more 50% of data (continent, iata_code and local_code) so I kept:\n",
    "\n",
    "Column Name | Description \n",
    "-|-|\n",
    "**ident**| Unique identifier Airport code|\n",
    "**type**| Type of airport | \n",
    "**name**| Name of the airport | \n",
    "**continent**| Continent | | \n",
    "**iso_country**| ISO code of airport country |\n",
    "**iso_region**| ISO code of the region airport | \n",
    "**municipality**| City name where the airport is located | \n",
    "**iata_code**| IATA code of the airport|"
   ]
  },
  {
   "cell_type": "markdown",
   "metadata": {},
   "source": [
    "#### Read Airports Code"
   ]
  },
  {
   "cell_type": "code",
   "execution_count": 12,
   "metadata": {},
   "outputs": [],
   "source": [
    "def load_airport_code(path, file):\n",
    "    df = spark.read \\\n",
    "        .format(\"csv\") \\\n",
    "        .option('header', 'true') \\\n",
    "        .option('inferSchema', 'true') \\\n",
    "        .load(path+file)\n",
    "    nb_rows = df.count()\n",
    "    print(f'*****         Loading {nb_rows} rows')\n",
    "    print(f'*****         Display the Schema')\n",
    "    df.printSchema()\n",
    "    print(f'*****         Display few rows')\n",
    "    df.show(3, truncate = False)\n",
    "    return df, nb_rows"
   ]
  },
  {
   "cell_type": "code",
   "execution_count": 13,
   "metadata": {},
   "outputs": [
    {
     "name": "stdout",
     "output_type": "stream",
     "text": [
      "*****         Loading 55075 rows\n",
      "*****         Display the Schema\n",
      "root\n",
      " |-- ident: string (nullable = true)\n",
      " |-- type: string (nullable = true)\n",
      " |-- name: string (nullable = true)\n",
      " |-- elevation_ft: integer (nullable = true)\n",
      " |-- continent: string (nullable = true)\n",
      " |-- iso_country: string (nullable = true)\n",
      " |-- iso_region: string (nullable = true)\n",
      " |-- municipality: string (nullable = true)\n",
      " |-- gps_code: string (nullable = true)\n",
      " |-- iata_code: string (nullable = true)\n",
      " |-- local_code: string (nullable = true)\n",
      " |-- coordinates: string (nullable = true)\n",
      "\n",
      "*****         Display few rows\n",
      "+-----+-------------+--------------------+------------+---------+-----------+----------+------------+--------+---------+----------+----------------------------------+\n",
      "|ident|type         |name                |elevation_ft|continent|iso_country|iso_region|municipality|gps_code|iata_code|local_code|coordinates                       |\n",
      "+-----+-------------+--------------------+------------+---------+-----------+----------+------------+--------+---------+----------+----------------------------------+\n",
      "|00A  |heliport     |Total Rf Heliport   |11          |NA       |US         |US-PA     |Bensalem    |00A     |null     |00A       |-74.93360137939453, 40.07080078125|\n",
      "|00AA |small_airport|Aero B Ranch Airport|3435        |NA       |US         |US-KS     |Leoti       |00AA    |null     |00AA      |-101.473911, 38.704022            |\n",
      "|00AK |small_airport|Lowell Field        |450         |NA       |US         |US-AK     |Anchor Point|00AK    |null     |00AK      |-151.695999146, 59.94919968       |\n",
      "+-----+-------------+--------------------+------------+---------+-----------+----------+------------+--------+---------+----------+----------------------------------+\n",
      "only showing top 3 rows\n",
      "\n"
     ]
    }
   ],
   "source": [
    "file = 'airport-codes_csv.csv'    \n",
    "airport_code, rows_code = load_airport_code(path, file)"
   ]
  },
  {
   "cell_type": "markdown",
   "metadata": {},
   "source": [
    "### Global Airports Data\n",
    "#### Exploration\n",
    "* Path = '../../data/airports-extended.csv'\n",
    "* There are 10668 rows and 13 columns in *airports-extended.csv*\n",
    "* Name of the dataframe : df_global_airports\n",
    "* No missing value, and I kept:\n",
    "\n",
    "Column Name | Description | Example | Type\n",
    "-|-|-|-|\n",
    "**airport_name**|Name of airport|Nadzab Airport|Object\n",
    "**airport_city**|Main city served by airport|Nadzab|Object\n",
    "**airport_country**|Country or territory where airport is located|Papua New Guinea|Object\n",
    "**airport_iata**|3-letter IATA code|LAE|Object"
   ]
  },
  {
   "cell_type": "markdown",
   "metadata": {},
   "source": [
    "#### Read airports-extended"
   ]
  },
  {
   "cell_type": "code",
   "execution_count": 14,
   "metadata": {},
   "outputs": [],
   "source": [
    "global_airports_schema = T.StructType([\n",
    "    T.StructField('airport_ID', T.IntegerType(), False),\n",
    "    T.StructField('name', T.StringType(), False),\n",
    "    T.StructField('city', T.StringType(), False),\n",
    "    T.StructField('country', T.StringType(), False),\n",
    "    T.StructField('iata', T.StringType(), False),\n",
    "    T.StructField('icao', T.StringType(), False),\n",
    "    T.StructField('latitude', T.StringType(), False),\n",
    "    T.StructField('longitude', T.StringType(), False),\n",
    "    T.StructField('altitude', T.IntegerType(), False),\n",
    "    T.StructField('timezone', T.StringType(), False),\n",
    "    T.StructField('dst', T.StringType(), False),\n",
    "    T.StructField('tz_timezone', T.StringType(), False),\n",
    "    T.StructField('type', T.StringType(), False),\n",
    "    T.StructField('data_source', T.StringType(), False)\n",
    "])"
   ]
  },
  {
   "cell_type": "code",
   "execution_count": 15,
   "metadata": {},
   "outputs": [],
   "source": [
    "def load_global_airports(path, file):\n",
    "    df = spark.read \\\n",
    "        .format(\"csv\") \\\n",
    "        .option('header', 'True') \\\n",
    "        .option('inferSchema', 'true') \\\n",
    "        .schema(global_airports_schema) \\\n",
    "        .load(path+file)\n",
    "    nb_rows = df.count()\n",
    "    print(f'*****         Loading {nb_rows} rows')\n",
    "    print(f'*****         Display the Schema')\n",
    "    df.printSchema()\n",
    "    print(f'*****         Display few rows')\n",
    "    df.show(3, truncate = False)\n",
    "    return df, nb_rows"
   ]
  },
  {
   "cell_type": "code",
   "execution_count": 16,
   "metadata": {},
   "outputs": [
    {
     "name": "stdout",
     "output_type": "stream",
     "text": [
      "*****         Loading 10667 rows\n",
      "*****         Display the Schema\n",
      "root\n",
      " |-- airport_ID: integer (nullable = true)\n",
      " |-- name: string (nullable = true)\n",
      " |-- city: string (nullable = true)\n",
      " |-- country: string (nullable = true)\n",
      " |-- iata: string (nullable = true)\n",
      " |-- icao: string (nullable = true)\n",
      " |-- latitude: string (nullable = true)\n",
      " |-- longitude: string (nullable = true)\n",
      " |-- altitude: integer (nullable = true)\n",
      " |-- timezone: string (nullable = true)\n",
      " |-- dst: string (nullable = true)\n",
      " |-- tz_timezone: string (nullable = true)\n",
      " |-- type: string (nullable = true)\n",
      " |-- data_source: string (nullable = true)\n",
      "\n",
      "*****         Display few rows\n",
      "+----------+----------------------------+-----------+----------------+----+----+------------------+------------------+--------+--------+---+--------------------+-------+-----------+\n",
      "|airport_ID|name                        |city       |country         |iata|icao|latitude          |longitude         |altitude|timezone|dst|tz_timezone         |type   |data_source|\n",
      "+----------+----------------------------+-----------+----------------+----+----+------------------+------------------+--------+--------+---+--------------------+-------+-----------+\n",
      "|2         |Madang Airport              |Madang     |Papua New Guinea|MAG |AYMD|-5.20707988739    |145.789001465     |20      |10      |U  |Pacific/Port_Moresby|airport|OurAirports|\n",
      "|3         |Mount Hagen Kagamuga Airport|Mount Hagen|Papua New Guinea|HGU |AYMH|-5.826789855957031|144.29600524902344|5388    |10      |U  |Pacific/Port_Moresby|airport|OurAirports|\n",
      "|4         |Nadzab Airport              |Nadzab     |Papua New Guinea|LAE |AYNZ|-6.569803         |146.725977        |239     |10      |U  |Pacific/Port_Moresby|airport|OurAirports|\n",
      "+----------+----------------------------+-----------+----------------+----+----+------------------+------------------+--------+--------+---+--------------------+-------+-----------+\n",
      "only showing top 3 rows\n",
      "\n"
     ]
    }
   ],
   "source": [
    "file = 'airports-extended.csv'\n",
    "global_airports, rows_global = load_global_airports(path, file)"
   ]
  },
  {
   "cell_type": "markdown",
   "metadata": {},
   "source": [
    "### Iso Country Data\n",
    "#### Exploration\n",
    "* Path = '../../data/wikipedia-iso-country-codes.csv\n",
    "* There are 246 rows and 5 columns in *wikipedia-iso-country-codes.csv*\n",
    "* Name of the dataframe: df_iso_country\n",
    "* I remove 'ISO 3166-2' column, only one missing value. I choose to replace manually. \n",
    "\n",
    "Column Name | Description \n",
    "-|-|\n",
    "**Country_name**|Country Name in English|\n",
    "**Alpha2_code**|code 2 letter code for the country|\n",
    "**Alpha3_code**|code 3 letter code for the country|\n",
    "**Numeric_code**|ISO 3166-2 code|"
   ]
  },
  {
   "cell_type": "markdown",
   "metadata": {},
   "source": [
    "#### Read wikipedia-iso-country-codes"
   ]
  },
  {
   "cell_type": "code",
   "execution_count": 17,
   "metadata": {},
   "outputs": [],
   "source": [
    "iso_country_schema = T.StructType([\n",
    "    T.StructField('English short name lower case', T.StringType(), False),\n",
    "    T.StructField('Alpha-2 code', T.StringType(), False),\n",
    "    T.StructField('Alpha-3 code', T.StringType(), False),\n",
    "    T.StructField('Numeric code', T.StringType(), False),\n",
    "    T.StructField('ISO_3166-2', T.StringType(), True),    \n",
    "]) "
   ]
  },
  {
   "cell_type": "code",
   "execution_count": 18,
   "metadata": {},
   "outputs": [],
   "source": [
    "def load_iso_country(path, file):\n",
    "    df = spark.read \\\n",
    "            .format(\"csv\") \\\n",
    "            .option('header', 'true') \\\n",
    "            .option('inferSchema', 'true') \\\n",
    "            .schema(iso_country_schema) \\\n",
    "            .load(path+file)\n",
    "    df = df.withColumnRenamed(\"English short name lower case\", \"Country\")\\\n",
    "           .withColumnRenamed(\"Alpha-2 code\", \"Alpha_2\")\\\n",
    "           .withColumnRenamed(\"Alpha-3 code\", \"Alpha_3\")\\\n",
    "           .withColumnRenamed(\"Numeric code\", \"Num_code\")\n",
    "    \n",
    "    nb_rows = df.count()\n",
    "    print(f'*****         Loading {nb_rows} rows')\n",
    "    print(f'*****         Display the Schema')\n",
    "    df.printSchema()\n",
    "    print(f'*****         Display few rows')\n",
    "    df.show(3, truncate = False)\n",
    "    return df, nb_rows"
   ]
  },
  {
   "cell_type": "code",
   "execution_count": 19,
   "metadata": {},
   "outputs": [
    {
     "name": "stdout",
     "output_type": "stream",
     "text": [
      "*****         Loading 246 rows\n",
      "*****         Display the Schema\n",
      "root\n",
      " |-- Country: string (nullable = true)\n",
      " |-- Alpha_2: string (nullable = true)\n",
      " |-- Alpha_3: string (nullable = true)\n",
      " |-- Num_code: string (nullable = true)\n",
      " |-- ISO_3166-2: string (nullable = true)\n",
      "\n",
      "*****         Display few rows\n",
      "+--------+-------+-------+--------+-------------+\n",
      "|Country |Alpha_2|Alpha_3|Num_code|ISO_3166-2   |\n",
      "+--------+-------+-------+--------+-------------+\n",
      "|Zimbabwe|ZW     |ZWE    |716     |ISO 3166-2:ZW|\n",
      "|Zambia  |ZM     |ZMB    |894     |ISO 3166-2:ZM|\n",
      "|Yemen   |YE     |YEM    |887     |ISO 3166-2:YE|\n",
      "+--------+-------+-------+--------+-------------+\n",
      "only showing top 3 rows\n",
      "\n"
     ]
    }
   ],
   "source": [
    "file = 'wikipedia-iso-country-codes.csv'\n",
    "iso_country, rows_iso = load_iso_country(path, file)"
   ]
  },
  {
   "cell_type": "markdown",
   "metadata": {},
   "source": [
    "### US cities Demographics\n",
    "#### Exploration\n",
    "* Path = '../../data/us-cities-demographics.csv\n",
    "* There are 2891 rows and 12 columns in us-cities-demographics.csv\n",
    "* Dataframe name : df_demograph\n",
    "* Missing less than 1% in some variables so I drop 'Number of Veterans', 'Average Household Size' and kept: \n",
    "\n",
    "Column Name | Description | \n",
    "-|-|\n",
    "**City**|Name of the city|\n",
    "**State**|US state of the city|\n",
    "**Median Age**|The median of the age of the population|\n",
    "**Male Population**|Number of the male population|\n",
    "**Female Population**|Number of the female population|\n",
    "**Total Population**|Number of the total population|\n",
    "**Foreign-born**|Number of residents of the city that were not born in the city|\n",
    "**State Code**|Code of the state of the city|\n",
    "**Race**|Race class|\n",
    "**Count**|Number of individual of each race|"
   ]
  },
  {
   "cell_type": "markdown",
   "metadata": {},
   "source": [
    "#### Read us-cities-demographics"
   ]
  },
  {
   "cell_type": "code",
   "execution_count": 20,
   "metadata": {},
   "outputs": [],
   "source": [
    "demograph_schema = T.StructType([\n",
    "    T.StructField('City', T.StringType(), False),\n",
    "    T.StructField('State', T.StringType(), False),\n",
    "    T.StructField('Median_Age', T.FloatType(), False),\n",
    "    T.StructField('Male_Population', T.IntegerType(), False),\n",
    "    T.StructField('Female_Population', T.IntegerType(), False),\n",
    "    T.StructField('Total_Population', T.IntegerType(), False),\n",
    "    T.StructField('Number_of_Veterans', T.IntegerType(), False),\n",
    "    T.StructField('Foreign-born', T.IntegerType(), False),\n",
    "    T.StructField('Average_Household_Size', T.FloatType(), False),\n",
    "    T.StructField('State_Code', T.StringType(), False),\n",
    "    T.StructField('Race', T.StringType(), False),\n",
    "    T.StructField('Count', T.IntegerType(), False)\n",
    "]) "
   ]
  },
  {
   "cell_type": "code",
   "execution_count": 21,
   "metadata": {},
   "outputs": [],
   "source": [
    "def load_demograph(path, file):\n",
    "    df = spark.read \\\n",
    "        .format(\"csv\") \\\n",
    "        .option('header', 'true') \\\n",
    "        .option('delimiter', ';') \\\n",
    "        .option('inferSchema', 'true') \\\n",
    "        .schema(demograph_schema) \\\n",
    "        .load(path+file)\n",
    "    nb_rows = df.count()\n",
    "    print(f'*****         Loading {nb_rows} rows')\n",
    "    print(f'*****         Display the Schema')\n",
    "    df.printSchema()\n",
    "    print(f'*****         Display few rows')\n",
    "    df.show(3, truncate = False)\n",
    "    return df, nb_rows"
   ]
  },
  {
   "cell_type": "code",
   "execution_count": 22,
   "metadata": {},
   "outputs": [
    {
     "name": "stdout",
     "output_type": "stream",
     "text": [
      "*****         Loading 2891 rows\n",
      "*****         Display the Schema\n",
      "root\n",
      " |-- City: string (nullable = true)\n",
      " |-- State: string (nullable = true)\n",
      " |-- Median_Age: float (nullable = true)\n",
      " |-- Male_Population: integer (nullable = true)\n",
      " |-- Female_Population: integer (nullable = true)\n",
      " |-- Total_Population: integer (nullable = true)\n",
      " |-- Number_of_Veterans: integer (nullable = true)\n",
      " |-- Foreign-born: integer (nullable = true)\n",
      " |-- Average_Household_Size: float (nullable = true)\n",
      " |-- State_Code: string (nullable = true)\n",
      " |-- Race: string (nullable = true)\n",
      " |-- Count: integer (nullable = true)\n",
      "\n",
      "*****         Display few rows\n",
      "+-------------+-------------+----------+---------------+-----------------+----------------+------------------+------------+----------------------+----------+------------------+-----+\n",
      "|City         |State        |Median_Age|Male_Population|Female_Population|Total_Population|Number_of_Veterans|Foreign-born|Average_Household_Size|State_Code|Race              |Count|\n",
      "+-------------+-------------+----------+---------------+-----------------+----------------+------------------+------------+----------------------+----------+------------------+-----+\n",
      "|Silver Spring|Maryland     |33.8      |40601          |41862            |82463           |1562              |30908       |2.6                   |MD        |Hispanic or Latino|25924|\n",
      "|Quincy       |Massachusetts|41.0      |44129          |49500            |93629           |4147              |32935       |2.39                  |MA        |White             |58723|\n",
      "|Hoover       |Alabama      |38.5      |38040          |46799            |84839           |4819              |8229        |2.58                  |AL        |Asian             |4759 |\n",
      "+-------------+-------------+----------+---------------+-----------------+----------------+------------------+------------+----------------------+----------+------------------+-----+\n",
      "only showing top 3 rows\n",
      "\n"
     ]
    }
   ],
   "source": [
    "file = 'us-cities-demographics.csv'\n",
    "demograph, rows_demo = load_demograph(path, file)"
   ]
  },
  {
   "cell_type": "markdown",
   "metadata": {},
   "source": [
    "### WDIData.csv"
   ]
  },
  {
   "cell_type": "markdown",
   "metadata": {},
   "source": [
    "\n",
    "#### Exploration \n",
    "* Path = '../../data/WDIData.csv\n",
    "* There are 422136 rows and 64 columns in *WDIData.csv*\n",
    "* Dataframe name : df_indicator_dev\n",
    "* This dataset contains 64 variables with economics context , most of which are variables per year(1960 to 2018). Data is missing a lot, between 40% and 91%. I just need the year 2015 to explain the Economic context in the country and make aggregation per country. I kept:\n",
    "\n",
    "Column Name | Description | \n",
    "-|-|\n",
    "**Country Name**|Name of the country|\n",
    "**Country Code**|3 letters code of country|\n",
    "**Indicator Name**|indicators of economic development|conversion factor, GDP (LCU per inter...|\n",
    "**Indicator Code**|letters indicator code|\n",
    "**2016**|one column per year since 1960|"
   ]
  },
  {
   "cell_type": "markdown",
   "metadata": {},
   "source": [
    "#### Read WDIData"
   ]
  },
  {
   "cell_type": "code",
   "execution_count": 23,
   "metadata": {},
   "outputs": [],
   "source": [
    "def load_indicator_dev(path, file):\n",
    "    df = spark.read \\\n",
    "        .format(\"csv\") \\\n",
    "        .option('header', 'true') \\\n",
    "        .option('inferSchema', 'true') \\\n",
    "        .load(path+file) \\\n",
    "        .select(\"Country Name\",\"Country Code\", \"Indicator Name\", \"Indicator Code\", \"2015\" ) \\\n",
    "        .toDF(\"Country_Name\",\"Country_Code\", \"Indicator_Name\", \"Indicator_Code\", \"2015\")\n",
    "    nb_rows = df.count()\n",
    "    print(f'*****         Loading {nb_rows} rows')\n",
    "    print(f'*****         Display the Schema')\n",
    "    df.printSchema()\n",
    "    print(f'*****         Display few rows')\n",
    "    df.show(3, truncate = False)\n",
    "    return df, nb_rows\n"
   ]
  },
  {
   "cell_type": "code",
   "execution_count": 24,
   "metadata": {},
   "outputs": [
    {
     "name": "stdout",
     "output_type": "stream",
     "text": [
      "*****         Loading 422136 rows\n",
      "*****         Display the Schema\n",
      "root\n",
      " |-- Country_Name: string (nullable = true)\n",
      " |-- Country_Code: string (nullable = true)\n",
      " |-- Indicator_Name: string (nullable = true)\n",
      " |-- Indicator_Code: string (nullable = true)\n",
      " |-- 2015: double (nullable = true)\n",
      "\n",
      "*****         Display few rows\n",
      "+------------+------------+-------------------------------------------------------------------------+-----------------+----------------+\n",
      "|Country_Name|Country_Code|Indicator_Name                                                           |Indicator_Code   |2015            |\n",
      "+------------+------------+-------------------------------------------------------------------------+-----------------+----------------+\n",
      "|Arab World  |ARB         |2005 PPP conversion factor, GDP (LCU per international $)                |PA.NUS.PPP.05    |null            |\n",
      "|Arab World  |ARB         |2005 PPP conversion factor, private consumption (LCU per international $)|PA.NUS.PRVT.PP.05|null            |\n",
      "|Arab World  |ARB         |Access to clean fuels and technologies for cooking (% of population)     |EG.CFT.ACCS.ZS   |84.1715990242825|\n",
      "+------------+------------+-------------------------------------------------------------------------+-----------------+----------------+\n",
      "only showing top 3 rows\n",
      "\n"
     ]
    }
   ],
   "source": [
    "file = 'WDIData.csv'\n",
    "indicator_dev, rows_dev = load_indicator_dev(path, file)"
   ]
  },
  {
   "cell_type": "markdown",
   "metadata": {},
   "source": [
    "### I94 Description Labels  Description"
   ]
  },
  {
   "cell_type": "markdown",
   "metadata": {},
   "source": [
    "Here some data extract from '../../data/I94_SAS_Labels_Description.SAS'.\n",
    "To explain code in I94-immigration, I create 5 files and read here. The file was cleaned and parsed with the scrip parse_file.py. see below:"
   ]
  },
  {
   "cell_type": "code",
   "execution_count": 25,
   "metadata": {},
   "outputs": [],
   "source": [
    "def parse_file(input_data, file, key):\n",
    "    \"\"\"\n",
    "    fonction to parse file and create parquet file\n",
    "    \"\"\"\n",
    "    output_parquet = '../../data/'\n",
    "    path_file = input_data + file\n",
    "    \n",
    "    #file_parse = 'I94_SAS_Labels_Descriptions.SAS'\n",
    "    with open(path_file, 'r') as f:\n",
    "        file = f.read()\n",
    "    sas_dict={}\n",
    "    key_name = ''\n",
    "\n",
    "    for line in file.split(\"\\n\"):\n",
    "        line = re.sub(r\"\\s+\", \" \", line)\n",
    "        if '/* I94' in line :         \n",
    "            line = line.strip('/* ')\n",
    "            key_name = line.split('-')[0].replace(\"&\", \"_\").replace(\" \", \"\").strip(\" \").lower() \n",
    "            sas_dict[key_name] = []\n",
    "        elif '=' in line and key_name != '' :\n",
    "            #line_trans = re.sub(\"([A-Z]*?),(\\s*?[A-Z]{2}\\s)\",\"\\\\1=\\\\2\", line)\n",
    "            #print(line_trans)\n",
    "            sas_dict[key_name].append([item.strip(' ').strip(\" ';\") for item in line.split('=')])\n",
    "        \n",
    "    if key == \"i94port\":\n",
    "        #pattern = r'[^()]*\\s*\\([^()]*\\)'\n",
    "        columns = [\"Port_id\", \"Port_city\", \"State_id\"]\n",
    "        swap = sas_dict[key]          \n",
    "        sas_dict[key] = []\n",
    "        for x in swap:           \n",
    "            if \",\" in x[1]:\n",
    "                mylist=[]\n",
    "                a = x[1].rsplit(\",\", 1)\n",
    "                b = a[0]\n",
    "                c = a[1].strip()\n",
    "                mylist.extend([x[0], b, c])\n",
    "                sas_dict[key].append(item for item in mylist)\n",
    "    if key == \"i94cit_i94res\":\n",
    "        columns = [\"Country_id\", \"Country\"]\n",
    "        swap = sas_dict[key]\n",
    "        for x in swap:\n",
    "            #x[0] = int(x[0])\n",
    "            if \"mexico\" in x[1]:\n",
    "                x[1] = \"mexico\"        \n",
    "    if key == \"i94mode\":\n",
    "        columns = [\"Mode_id\", \"Mode\"]\n",
    "        #swap = sas_dict[key]\n",
    "        #for x in swap:\n",
    "        #    x[0] = int(x[0])\n",
    "    if key == \"i94addr\":\n",
    "        columns = [\"State_id\", \"State\"]\n",
    "        \n",
    "    if key == \"i94visa\":\n",
    "        columns = [\"Code_visa\", \"Visa\"]\n",
    "        #swap = sas_dict[key]\n",
    "        #for x in swap:\n",
    "        #    x[0] = int(x[0])\n",
    "            \n",
    "    df = \"\"                  \n",
    "    if key in sas_dict.keys():\n",
    "        if len(sas_dict[key]) > 0:\n",
    "            df = pd.DataFrame(sas_dict[key], columns = columns)\n",
    "            df.sort_values(df.columns[0], inplace=True)\n",
    "        #with io.open(f\"../../data/{key}.csv\", \"w\") as f:\n",
    "        #    df.to_csv(f, index=False)\n",
    "        df.to_parquet(f'{output_parquet}{key}.parquet')\n",
    "    return(len(sas_dict[key]))"
   ]
  },
  {
   "cell_type": "code",
   "execution_count": 26,
   "metadata": {},
   "outputs": [
    {
     "name": "stdout",
     "output_type": "stream",
     "text": [
      "../../data/I94_SAS_Labels_Descriptions.SAS\n",
      "...Begin to create I94 Labels files\n",
      "There are 583 rows in i94port.parquet\n",
      "There are 3 rows in i94visa.parquet\n",
      "There are 55 rows in i94addr.parquet\n",
      "There are 289 rows in i94cit_i94res.parquet\n",
      "There are 4 rows in i94mode.parquet\n"
     ]
    }
   ],
   "source": [
    "### Create Parquet Files \n",
    "# Parse I94_SAS_Labels_Description.SAS and save in parquet format in '../../data/'\n",
    "#file = 'I94_SAS_Labels_Descriptions.SAS'\n",
    "#!python parse_file.py $path $file\n",
    "#### Read Parquet files create from 'I94_SAS_Labels_Descriptions.SAS'\n",
    "\n",
    "path = '../../data/'\n",
    "input_data =  '../../data/'\n",
    "file = 'I94_SAS_Labels_Descriptions.SAS'\n",
    "print(path+file)\n",
    "print(\"...Begin to create I94 Labels files\")\n",
    "file = 'I94_SAS_Labels_Descriptions.SAS'\n",
    "\n",
    "## make i94port.parquet\n",
    "key = \"i94port\"\n",
    "nb = parse_file(input_data, file, key)\n",
    "print(f'There are {nb} rows in {key}.parquet')\n",
    "## make i94visa.csv\n",
    "key = \"i94visa\"\n",
    "nb = parse_file(input_data, file, key)\n",
    "print(f'There are {nb} rows in {key}.parquet')\n",
    "## make i94addr.csv\n",
    "key = \"i94addr\"\n",
    "nb = parse_file(input_data, file, key)\n",
    "print(f'There are {nb} rows in {key}.parquet')\n",
    "# make i94cit_i94res.csv\n",
    "key = \"i94cit_i94res\"\n",
    "nb = parse_file(input_data, file, key)\n",
    "print(f'There are {nb} rows in {key}.parquet')\n",
    "# make i94mode.csv\n",
    "key = \"i94mode\"\n",
    "nb = parse_file(input_data, file, key)\n",
    "print(f'There are {nb} rows in {key}.parquet')\n"
   ]
  },
  {
   "cell_type": "code",
   "execution_count": 27,
   "metadata": {},
   "outputs": [
    {
     "name": "stdout",
     "output_type": "stream",
     "text": [
      "***** Dataframe i94_mode *****\n",
      "There are 4 rows.\n",
      " \n",
      "***** Dataframe i94_ctry *****\n",
      "There are 289 rows.\n",
      " \n",
      "***** Dataframe i94_addr *****\n",
      "There are 55 rows.\n",
      " \n",
      "***** Dataframe i94_visa *****\n",
      "There are 3 rows.\n",
      " \n",
      "***** Dataframe i94_port *****\n",
      "There are 583 rows.\n",
      " \n"
     ]
    }
   ],
   "source": [
    "i94_mode = pd.read_parquet(path+'i94mode.parquet')\n",
    "print(f'***** Dataframe i94_mode *****')\n",
    "print(\"There are {} rows.\".format(len(i94_mode)))\n",
    "print(' ')\n",
    "\n",
    "i94_ctry = pd.read_parquet(path+'i94cit_i94res.parquet')\n",
    "print(f'***** Dataframe i94_ctry *****')\n",
    "print(\"There are {} rows.\".format(len(i94_ctry)))\n",
    "print(' ')\n",
    "\n",
    "i94_addr = pd.read_parquet(path+'i94addr.parquet')\n",
    "print(f'***** Dataframe i94_addr *****')\n",
    "print(\"There are {} rows.\".format(len(i94_addr)))\n",
    "print(' ')\n",
    "\n",
    "i94_visa = pd.read_parquet(path+'i94visa.parquet')\n",
    "print(f'***** Dataframe i94_visa *****')\n",
    "print(\"There are {} rows.\".format(len(i94_visa)))\n",
    "print(' ')\n",
    "\n",
    "i94_port = pd.read_parquet(path+'i94port.parquet')\n",
    "print(f'***** Dataframe i94_port *****')\n",
    "print(\"There are {} rows.\".format(len(i94_port)))\n",
    "print(' ')"
   ]
  },
  {
   "cell_type": "code",
   "execution_count": 28,
   "metadata": {},
   "outputs": [
    {
     "data": {
      "text/plain": [
       "['airport_code',\n",
       " 'demograph',\n",
       " 'global_airports',\n",
       " 'i94_addr',\n",
       " 'i94_ctry',\n",
       " 'i94_mode',\n",
       " 'i94_port',\n",
       " 'i94_visa',\n",
       " 'immigration',\n",
       " 'indicator_dev',\n",
       " 'iso_country',\n",
       " 'temperature']"
      ]
     },
     "execution_count": 28,
     "metadata": {},
     "output_type": "execute_result"
    }
   ],
   "source": [
    "%who_ls DataFrame"
   ]
  },
  {
   "cell_type": "raw",
   "metadata": {},
   "source": [
    "display(f'df_airport_code: There are {airport_code.count()} rows from file, {rows_code} before staging')\n",
    "display(f'df_demograph : There are {demograph.count()} rows from file, {rows_demo} before staging')\n",
    "display(f'df_global_airports : There are {global_airports.count()} rows parquet file, {rows_global} before staging')\n",
    "display(f'df_immigration : There are {immigration.count()} rows parquet file, {rows_immig} before staging')\n",
    "display(f'df_indicator_dev : There are {indicator_dev.count()} rows parquet file, {rows_dev} before staging')\n",
    "display(f'df_iso_country : There are {iso_country.count()} rows parquet file, {rows_iso} before staging')\n",
    "display(f'df_temperature : There are {temperature.count()} rows parquet file, {rows_temp} before staging')"
   ]
  },
  {
   "cell_type": "markdown",
   "metadata": {},
   "source": [
    "## 2_EXPLORATION"
   ]
  },
  {
   "cell_type": "markdown",
   "metadata": {},
   "source": [
    "## I94 Immigration Data\n",
    "* i94addr, missing 152592 values (code State US, 2 letters)\n",
    "    * fill by Port_id from the dataframe 'i94port' \n",
    "    * join on 'df_immigration.i94port == port_state_dic.Port_id', with no missing values\n",
    "    * nul value replace by State_id\n",
    "* int_col = ['cicid', 'i94yr', 'i94mon','i94cit', 'i94res', 'i94mode', 'i94bir', 'i94visa']\n",
    "    * fill null by default value from dictionnary and cast the int_col in Integer\n",
    "* str_cols = ['i94addr', 'i94port', 'gender', 'airline', 'visatype']\n",
    "    * fill null by default value from dictionnary\n",
    "* date_col = ['arrdate'(double sas format),'dtadfile'(string YYYYMMDD)]\n",
    "    * 'arrdate' in SAS date format, a value represents the number of days between January 1, 1960, and a other date.\n",
    "    * cast the date and fill the null value"
   ]
  },
  {
   "cell_type": "raw",
   "metadata": {},
   "source": [
    "#Count of null values of dataframe in pyspark \n",
    "immigration.select([count(when(col(c).isNull(), c)).alias(c) for c in immigration.columns]).toPandas()\n",
    "#Count of Missing values of dataframe in pyspark \n",
    "immigration.select([count(when(isnan(c), c)).alias(c) for c in immigration.columns]).toPandas()"
   ]
  },
  {
   "cell_type": "raw",
   "metadata": {},
   "source": [
    "# get number of null value in df_immigration.i94port\n",
    "immigration.filter(immigration.i94port.rlike('[A-Z]{3}')) \\\n",
    "              .filter(immigration.i94addr.isNull()) \\\n",
    "              .select(immigration.i94port, immigration.i94addr).count()"
   ]
  },
  {
   "cell_type": "raw",
   "metadata": {},
   "source": [
    "#drop columns with a lot of null values and not useful\n",
    "drop_col = ['depdate', 'count', 'occup', 'entdepa', 'entdepd', 'entdepu', 'matflag', 'biryear', \\\n",
    "            'insnum','visapost', 'fltno', 'admnum', 'insnum', 'dtaddto', 'arrdate', 'dtadfile']\n",
    "newdf = immigration.drop(*drop_col)\n",
    "newdf.columns"
   ]
  },
  {
   "cell_type": "raw",
   "metadata": {},
   "source": [
    "# create dictionnary from i94_port\n",
    "port_state_dic = dict([(i,a) for i, a in zip(i94_port.Port_id,i94_port.State_id)])\n",
    "# lamda function to get State_id\n",
    "user_func =  udf(lambda x: port_state_dic.get(x))\n",
    "\n",
    "newdf = newdf.withColumn('i94addr', F.when((F.col('i94addr').isNull()), \\\n",
    "                                                 user_func(immigration.i94port)) \\\n",
    "                                           .otherwise(F.col('i94addr')))"
   ]
  },
  {
   "cell_type": "raw",
   "metadata": {},
   "source": [
    "newdf.filter(newdf.i94port.rlike('[A-Z]{3}')) \\\n",
    "     .filter(newdf.i94addr.isNull()) \\\n",
    "     .select(newdf.i94port, newdf.i94addr).count()"
   ]
  },
  {
   "cell_type": "raw",
   "metadata": {},
   "source": [
    "# replace the null value and cast the columns in integer\n",
    "# int_col = ['cicid', 'i94yr', 'i94mon','i94cit', 'i94res', 'i94mode', 'i94bir', 'i94visa']\n",
    "null_int = {'cicid': -1, 'i94yr': -1, 'i94mon': -1,'i94cit': 239, 'i94res': 239, 'i94mode': 9, 'i94bir': -1, 'i94visa': -1}\n",
    "for k in null_int:\n",
    "        newdf = newdf.withColumn(k, F.when((F.col(k).isNull()), null_int[k])\n",
    "                 .otherwise(F.col(k).cast(\"int\")))\n",
    "        \n",
    "# replace the null value for the string\n",
    "# str_cols = ['i94addr', 'i94port', 'gender', 'airline', 'visatype']\n",
    "null_str = {'i94addr': '99', 'i94port': '999', 'gender': 'U', 'airline': 'unknown', 'visatype': '99' }\n",
    "for k in null_str:\n",
    "        newdf = newdf.withColumn(k, F.when((F.col(k).isNull()), null_str[k])\n",
    "                                 .otherwise(F.col(k)))\n",
    "        \n",
    "# display distinct value\n",
    "newdf.agg(*(countDistinct(col(c)).alias(c) for c in newdf.columns)).toPandas()"
   ]
  },
  {
   "cell_type": "raw",
   "metadata": {},
   "source": [
    "newdf.filter(newdf.i94port.rlike('[A-Z]{3}')) \\\n",
    "     .filter(newdf.i94addr.isNull()) \\\n",
    "     .select(newdf.i94port, newdf.i94addr).count()"
   ]
  },
  {
   "cell_type": "raw",
   "metadata": {},
   "source": [
    "newdf.printSchema()"
   ]
  },
  {
   "cell_type": "markdown",
   "metadata": {},
   "source": [
    "### Global Land Temperature Data\n",
    "\n",
    "* As we see in [data exploration file](./0_dataset_information.ipynb), the first date is in 1743, and we find a row per day per town. \n",
    "    * Make aggregation \n",
    "* drop \"dt\", \"AverageTemperatureUncertainty\" , \"Latitude\" and \"Longitude\" columns"
   ]
  },
  {
   "cell_type": "raw",
   "metadata": {},
   "source": [
    "temperature.show(2)"
   ]
  },
  {
   "cell_type": "raw",
   "metadata": {},
   "source": [
    "temperature.count()"
   ]
  },
  {
   "cell_type": "raw",
   "metadata": {},
   "source": [
    "temperature.printSchema()"
   ]
  },
  {
   "cell_type": "raw",
   "metadata": {},
   "source": [
    "#Count of null values of dataframe in pyspark \n",
    "immigration.select([count(when(col(c).isNull(), c)).alias(c) for c in immigration.columns]).toPandas()\n",
    "#Count of Missing values of dataframe in pyspark \n",
    "immigration.select([count(when(isnan(c), c)).alias(c) for c in immigration.columns]).toPandas()"
   ]
  },
  {
   "cell_type": "markdown",
   "metadata": {},
   "source": [
    "### Airports Code Data\n",
    "* MIssing value in Iata_code, Municipality in the whole table\n",
    "    * I drop '[\"elevation_ft\",\"continent\", \"gps_code\", \"coordinates\"]'\n",
    "    * I keep : ident, airport_type, airport_name, country_iso, city_name, iata_code, state_id\n",
    "    The missing value in iata_code left with the drop. \n",
    "* I extract the State_id from the split of the local_code and rename columns."
   ]
  },
  {
   "cell_type": "raw",
   "metadata": {},
   "source": [
    "airport_code.printSchema()"
   ]
  },
  {
   "cell_type": "raw",
   "metadata": {},
   "source": [
    "display(newdf.select([count(when(isnan(c), c)).alias(c) for c in newdf.columns]).toPandas())\n",
    "display(newdf.select([count(when(col(c).isNull(), c)).alias(c) for c in newdf.columns]).toPandas())"
   ]
  },
  {
   "cell_type": "raw",
   "metadata": {},
   "source": [
    "# display distinct value\n",
    "newdf.agg(*(countDistinct(col(c)).alias(c) for c in newdf.columns)).toPandas()"
   ]
  },
  {
   "cell_type": "markdown",
   "metadata": {},
   "source": [
    "### Global Airports Data\n",
    "* There are some missing values.\n",
    "* Data clean: I drop [\"icao\", \"latitude\", \"longitude\", \"altitude\", , \"timezone\", \"dst\", \"tz_timezone\", \"data_source\"] and keep only the airport in 'type'"
   ]
  },
  {
   "cell_type": "raw",
   "metadata": {},
   "source": [
    "newdf = global_airports\n",
    "global_airports.count()\n"
   ]
  },
  {
   "cell_type": "raw",
   "metadata": {},
   "source": [
    "global_airports.show(2)"
   ]
  },
  {
   "cell_type": "raw",
   "metadata": {},
   "source": [
    "display(newdf.select([count(when(isnan(c), c)).alias(c) for c in newdf.columns]).toPandas())\n",
    "display(newdf.select([count(when(col(c).isNull(), c)).alias(c) for c in newdf.columns]).toPandas())"
   ]
  },
  {
   "cell_type": "raw",
   "metadata": {},
   "source": [
    "# display distinct value\n",
    "newdf.agg(*(countDistinct(col(c)).alias(c) for c in newdf.columns)).toPandas()"
   ]
  },
  {
   "cell_type": "raw",
   "metadata": {},
   "source": [
    "newdf.printSchema()"
   ]
  },
  {
   "cell_type": "markdown",
   "metadata": {},
   "source": [
    "### Iso Country Data\n",
    "* No missing values\n",
    "* I drop 'ISO_3166-2' and rename columns"
   ]
  },
  {
   "cell_type": "raw",
   "metadata": {},
   "source": [
    "iso_country.show(2)"
   ]
  },
  {
   "cell_type": "raw",
   "metadata": {},
   "source": [
    "newdf = iso_country\n",
    "newdf.printSchema()"
   ]
  },
  {
   "cell_type": "raw",
   "metadata": {},
   "source": [
    "display(newdf.select([count(when(isnan(c), c)).alias(c) for c in newdf.columns]).toPandas())\n",
    "display(newdf.select([count(when(col(c).isNull(), c)).alias(c) for c in newdf.columns]).toPandas())"
   ]
  },
  {
   "cell_type": "markdown",
   "metadata": {},
   "source": [
    "### US cities Demographics\n",
    "* missing values\n",
    "* dataclean\n",
    "* df_demograph"
   ]
  },
  {
   "cell_type": "raw",
   "metadata": {},
   "source": [
    "demograph.count()\n"
   ]
  },
  {
   "cell_type": "raw",
   "metadata": {},
   "source": [
    "newdf = demograph"
   ]
  },
  {
   "cell_type": "raw",
   "metadata": {},
   "source": [
    "display(newdf.select([count(when(isnan(c), c)).alias(c) for c in newdf.columns]).toPandas())\n",
    "display(newdf.select([count(when(col(c).isNull(), c)).alias(c) for c in newdf.columns]).toPandas())"
   ]
  },
  {
   "cell_type": "raw",
   "metadata": {},
   "source": [
    "newdf.show(5)"
   ]
  },
  {
   "cell_type": "raw",
   "metadata": {},
   "source": [
    "newdf.printSchema()"
   ]
  },
  {
   "cell_type": "markdown",
   "metadata": {},
   "source": [
    "### World Development Indicators Data\n",
    "* df_indicator_dev"
   ]
  },
  {
   "cell_type": "raw",
   "metadata": {},
   "source": [
    "indicator_dev.count()"
   ]
  },
  {
   "cell_type": "raw",
   "metadata": {},
   "source": [
    "indicator_dev.show()"
   ]
  },
  {
   "cell_type": "raw",
   "metadata": {},
   "source": [
    "keep_cols = ['Country Name', 'Country Code', 'Indicator Name', 'Indicator Code', '2015']"
   ]
  },
  {
   "cell_type": "raw",
   "metadata": {},
   "source": [
    "indicator_dev.printSchema()"
   ]
  },
  {
   "cell_type": "raw",
   "metadata": {},
   "source": [
    "# count distinc in column\n",
    "#df_indicator_dev.select(F.countDistinct('Country_Name')).show()\n",
    "[i.Country_Name for i in indicator_dev.select('Country_Name').distinct().collect()]"
   ]
  },
  {
   "cell_type": "markdown",
   "metadata": {},
   "source": [
    "# Step 3 Extract_Transform_Load\n",
    "\n",
    "### Conceptual Data Model\n",
    "\n",
    "On the basis of a star schema, this allows to quickly find the elements linked to each other.It consists of a large fact table and a circle of other tables that contain the descriptive elements of the fact, called \"dimensions\".\n",
    "Table fact contaiins observable data (the facts) that we have on a subject and that we want to study, according axes of analysis (the dimensions).  \n",
    "The immigration dataset is the center of this project and allow us to explore foreign visitors. It will the fact table. Dimension tables give us information about a piece of this visitors, country, airport, indicator economics, and us demography. "
   ]
  },
  {
   "cell_type": "markdown",
   "metadata": {},
   "source": [
    "The etl will load the diffrent files from different format with spark. Then process the cleasning. The second stage build tdimension table and fact table. Then the files are load in parquet file then make a check."
   ]
  }
 ],
 "metadata": {
  "kernelspec": {
   "display_name": "Python 3",
   "language": "python",
   "name": "python3"
  },
  "language_info": {
   "codemirror_mode": {
    "name": "ipython",
    "version": 3
   },
   "file_extension": ".py",
   "mimetype": "text/x-python",
   "name": "python",
   "nbconvert_exporter": "python",
   "pygments_lexer": "ipython3",
   "version": "3.8.6"
  }
 },
 "nbformat": 4,
 "nbformat_minor": 4
}

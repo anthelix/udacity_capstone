{
 "cells": [
  {
   "cell_type": "markdown",
   "metadata": {},
   "source": [
    "###### Data Engineering Capstone Project\n",
    "\n",
    "# US Student Immigration\n",
    "> The purpose of this project is to study the foreign students. The goal is to offer Data teams Analysts a selection of data concerning immigration to the United States.\n",
    "\n",
    "#### Project Summary\n",
    "\n",
    "The project follows the follow steps:\n",
    "* [Step 1: Scope the Project and Gather Data](#Step-1:-Scope-the-Project-and-Gather-Data)\n",
    "* [Step 2: Explore and Assess the Data](#Step-2:-Explore-and-Assess-the-Data)\n",
    "    * [I94 Description Labels](#I94-Descrition-Labels)\n",
    "    * [Immigration data](#Immigration-data)\n",
    "    * [Global Land Temperature Data](#Global-Land-Temperature-Data)\n",
    "    * [Global Airports Data](#Global-Airports-Data)\n",
    "    * [Airports Data](#Airports-Data)\n",
    "    \n",
    "* [Step 3: Define the Data Model](#Step-3:-Define-the-Data-Model)\n",
    "* [Step 4: Run ETL to Model the Data](#Step-4:-Run-ETL-to-Model-the-Data)\n",
    "* [Step 5: Complete Project Write Up](#Step-5:-Complete-Project-Write-Up)"
   ]
  },
  {
   "cell_type": "code",
   "execution_count": 1,
   "metadata": {},
   "outputs": [],
   "source": [
    "import os\n",
    "import re\n",
    "import sys\n",
    "import pandas as pd\n",
    "from datetime import datetime\n",
    "from pyspark.sql import SparkSession"
   ]
  },
  {
   "cell_type": "raw",
   "metadata": {},
   "source": [
    "os.environ['PYSPARK_SUBMIT_ARGS'] = \"--packages=org.apache.hadoop:hadoop-aws:2.7.3 pyspark-shell\""
   ]
  },
  {
   "cell_type": "code",
   "execution_count": 4,
   "metadata": {},
   "outputs": [],
   "source": [
    "from pyspark.sql import SparkSession\n",
    "spark = SparkSession.builder.\\\n",
    "config(\"spark.jars.packages\",\"saurfang:spark-sas7bdat:2.0.0-s_2.11\")\\\n",
    ".enableHiveSupport().getOrCreate()\n",
    "\n",
    "pd.set_option(\"display.max.columns\", None)\n",
    "#pd.set_option(\"display.precision\", 2)"
   ]
  },
  {
   "cell_type": "markdown",
   "metadata": {},
   "source": [
    "# Step 1: Scope the Project and Gather Data\n",
    "\n",
    "Data warehouse allow us to collect, transform and manage data from varied sources. Then, Data Team Business connect to it and analyse data. \n",
    "Apache Spark has been used to gather data\n",
    "Amazon S3 buckets store the data in parquet files for the Data teams.\n",
    "The main dataset includes data on immigration to the United State.\n",
    "The questions about foreign students and their choice to come to US may be useful to propose services.   \n",
    "How many students arrived in US in April?    \n",
    "Which Airline bring the most student in April?    \n",
    "What are the top city to arrive in the USA?   \n",
    "Where are from?   \n",
    "what are the student profils (age, country born, country indicators)? \n",
    "\n",
    "#### Data Source\n",
    "\n",
    "[Datactionnary](2_data_dictionnary.ipynb) provides informations about dataset and tables used. [This notebook](1_capstone_notebook_exploration_with_python.ipynb) performs a first exploration with Python and explain the datasets, which variables I kept. \n",
    "\n",
    "Data |File |Data Source|Dataframe Name\n",
    "-|-|-|-|\n",
    "I94 Immigration | immigration_data_sample.csv| [US National Tourism and Trade Office](https://travel.trade.gov/research/programs/i94/description.asp)| df_immigration\n",
    "I94 Description Labels  Description|I94_SAS_Labels_Descriptions.SAS |US National Tourism and Trade Office|\n",
    "Global Land Temperature|GlobalLandTemperaturesByCity.csv| [Berkeley Earth](http://berkeleyearth.org/)|df_temperature\n",
    "Global Airports|airports-extended.csv| [OpenFlights.org and user contributions](https://www.kaggle.com/open-flights/airports-train-stations-and-ferry-terminals)|df_global_airports\n",
    "Airports codes |airport-codes_csv.csv| provide by Udacity|df_airport_id\n",
    "Iso country | wikipedia-iso-country-codes.csv|[Kaggle](https://www.kaggle.com/juanumusic/countries-iso-codes)|df_iso_country\n",
    "US Cities Demographic| us-cities-demographics.csv|provide by Udacity|df_demograph\n",
    "Indicators developpment| WDIData.csv| [Kaggle](https://www.kaggle.com/xavier14/wdidata)|df_indicator_dev\n",
    "Education-statistics| EdStatsData.csv|provide by Kaggle [World Bank](https://www.kaggle.com/kostya23/worldbankedstatsunarchived)|df_Educ_data"
   ]
  },
  {
   "cell_type": "markdown",
   "metadata": {},
   "source": [
    "# Step 2: Explore and Assess the Data\n",
    "#### Explore the Data \n",
    "Identify data quality issues, like missing values, duplicate data, etc.\n",
    "\n",
    "#### Cleaning Steps\n",
    "Document steps necessary to clean the data"
   ]
  },
  {
   "cell_type": "code",
   "execution_count": null,
   "metadata": {},
   "outputs": [],
   "source": []
  }
 ],
 "metadata": {
  "kernelspec": {
   "display_name": "Python 3",
   "language": "python",
   "name": "python3"
  },
  "language_info": {
   "codemirror_mode": {
    "name": "ipython",
    "version": 3
   },
   "file_extension": ".py",
   "mimetype": "text/x-python",
   "name": "python",
   "nbconvert_exporter": "python",
   "pygments_lexer": "ipython3",
   "version": "3.6.6"
  }
 },
 "nbformat": 4,
 "nbformat_minor": 4
}
